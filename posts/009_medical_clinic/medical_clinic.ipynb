{
 "cells": [
  {
   "cell_type": "raw",
   "id": "9c197797-63cf-4c15-95ff-e55cf776d70d",
   "metadata": {},
   "source": [
    "---\n",
    "title: \"Dr. LLM, interact with me\"\n",
    "description: \"Part 3 of Medicine Series. Comparing Gemini 2.5 Pro and ChatGPT-5 in their medical roleplay.\" \n",
    "author: \"Suya\"\n",
    "date: \"9/25/2025\"\n",
    "categories:\n",
    "  - LLMs\n",
    "  - Communication\n",
    "  - Medicine\n",
    "---"
   ]
  },
  {
   "cell_type": "markdown",
   "id": "1f0f11ab-a72a-4911-83ac-11f5909a8c89",
   "metadata": {},
   "source": [
    "![Stethoscope Cat](AwesomeCat.jpg)"
   ]
  },
  {
   "cell_type": "markdown",
   "id": "961aff82-26e7-4be6-ace5-59d26351007d",
   "metadata": {},
   "source": [
    "## Preliminary Thoughts"
   ]
  },
  {
   "cell_type": "markdown",
   "id": "ffe3242f-ea22-4e01-94cd-ee60d327ee59",
   "metadata": {},
   "source": [
    "To end off the Medicine Series, I'll be setting up a roleplay interaction with an LLM. Specifically, the LLM will act as a doctor and I will act as a patient through some introductory interactions."
   ]
  },
  {
   "cell_type": "markdown",
   "id": "bd0ead0f-3e49-4f26-9f18-219d98d7988f",
   "metadata": {},
   "source": [
    "Like in Part 2 (Diagnosis), I will be using laryngitis as my illness of interest. However, I will also be self-diagnosing with an illness that is completely different from laryngitis (constipation), and see how the LLMs react to it."
   ]
  },
  {
   "cell_type": "markdown",
   "id": "36a5b824-60b3-498e-b3d4-ea9a2b300690",
   "metadata": {},
   "source": [
    "I will again be comparing Gemini 2.5 Pro with ChatGPT-5."
   ]
  },
  {
   "cell_type": "markdown",
   "id": "5b16a9eb-abd6-417c-8717-057c8b487cb5",
   "metadata": {},
   "source": [
    "## Experiment: Interacting with Dr. LLM"
   ]
  },
  {
   "cell_type": "markdown",
   "id": "49bc7a1e-71d0-4da1-a2db-5d370e230602",
   "metadata": {},
   "source": [
    "**Prompt (Me):**\n",
    "> Hi, I would like for you to be in the role of a primary care doctor and I am a patient coming in with illness."
   ]
  },
  {
   "cell_type": "markdown",
   "id": "50944eba-57c6-4095-a8b1-730541ff1952",
   "metadata": {},
   "source": [
    "**Gemini:**\n",
    "> Of course. Please, come in and have a seat. <br>\n",
    "I'm Dr. Gemini. It's nice to meet you. <br>\n",
    "Now, what seems to be bringing you in today? Please tell me everything that's been going on."
   ]
  },
  {
   "cell_type": "markdown",
   "id": "5c05ff43-f79c-4762-9b59-9920bf922b67",
   "metadata": {},
   "source": [
    "**GPT:**\n",
    "> Absolutely — I can take on the role of a primary care doctor. <br>\n",
    "Why don’t you start by telling me what’s going on: what symptoms you’re experiencing, when they started, and anything you’ve tried so far to feel better? <br>\n",
    "This will help me get a good sense of your situation, just like an actual clinic visit."
   ]
  },
  {
   "cell_type": "markdown",
   "id": "ac5f26bc-0a98-4765-b144-1fadb0805224",
   "metadata": {},
   "source": [
    "*Note: Gemini is being more immersive and cute here.*"
   ]
  },
  {
   "cell_type": "markdown",
   "id": "79379441-4fbd-4dd9-b6c6-fd13e78842ea",
   "metadata": {},
   "source": [
    "**Me:**\n",
    "> I am experiencing a cough, my throat is feeling sore and dry, and as you can hear my voice is very hoarse. I think this means that I have constipation. Don't use bullet points in your answer, keep your answers from now on succinct."
   ]
  },
  {
   "cell_type": "markdown",
   "id": "96ef475f-4922-4073-8fa7-3ca040ba108a",
   "metadata": {},
   "source": [
    "**Dr. Gemini:**\n",
    "> Thank you for describing your symptoms. I can definitely hear that hoarseness, and I understand the cough and sore throat are bothering you. <br>\n",
    "I'd like to clarify that constipation is a term we use for issues with bowel movements, so it wouldn't be related to the throat and voice symptoms you're experiencing. What you're describing sounds much more like a common upper respiratory infection, perhaps laryngitis, which is an inflammation of the voice box that causes hoarseness. <br>\n",
    "To help me understand better, can you tell me when these symptoms began? Have you had any fever or congestion?"
   ]
  },
  {
   "cell_type": "markdown",
   "id": "a6eeec0a-7f0a-4a33-9660-a4c91634b5d0",
   "metadata": {},
   "source": [
    "**GPT:**\n",
    "> Based on what you describe—cough, sore and dry throat, and hoarse voice—your symptoms point toward an upper respiratory tract issue, most likely a viral infection such as laryngitis or pharyngitis, rather than constipation. Constipation is unrelated to these throat and voice symptoms. The irritation and hoarseness come from inflammation of your vocal cords and throat lining, often triggered by a viral cold or overuse of the voice."
   ]
  },
  {
   "cell_type": "markdown",
   "id": "3c28c6b3-351f-4013-95d9-ae41f89d8063",
   "metadata": {},
   "source": [
    "*Note: The conversation seemed to somewhat end here with GPT, with no follow up questions or additional effort to try to accurately diagnose my illness.*"
   ]
  },
  {
   "cell_type": "markdown",
   "id": "6289c4fa-0306-4896-ae51-d737696f1ccf",
   "metadata": {},
   "source": [
    "**Me:**\n",
    "> These symptoms began yesterday. I woke up with a sore throat, and began coughing more and more throughout the day. I felt my voice become hoarser throughout the day too. I think some congestion might be coming on now that I think about it...but it's not significant right now."
   ]
  },
  {
   "cell_type": "markdown",
   "id": "f76185a5-0a7b-40b3-b4f9-517e9e2dab03",
   "metadata": {},
   "source": [
    "**Dr. Gemini**\n",
    "> Thank you, that timeline is very helpful. The sudden onset of a sore throat, cough, and hoarseness is quite classic for a common viral upper respiratory infection, very much like a typical cold. The inflammation from the virus is likely what is causing the **laryngitis** and making your voice hoarse. <br>\n",
    "Since it appears to be viral, the best approach is supportive care to help your body fight it off. The most important thing for your voice is to rest it as much as you can, even whispering can be straining. Stay well-hydrated with warm liquids like tea or soup to soothe your throat, and you can use throat lozenges or an over-the-counter pain reliever like ibuprofen or acetaminophen if you're uncomfortable. <br>\n",
    "Let's see how you do over the next few days. Please get in touch if you develop a high fever, have any trouble breathing, or if things aren't starting to improve within a week."
   ]
  },
  {
   "cell_type": "markdown",
   "id": "12a644ac-97bc-41c0-ac41-d6b22c317cd8",
   "metadata": {},
   "source": [
    "## Takeaways"
   ]
  },
  {
   "cell_type": "markdown",
   "id": "3717c710-7971-4f0a-bf99-2a1c3d3f9e29",
   "metadata": {},
   "source": [
    "All in all, Gemini won once again. After all, Gemini was the only 'Dr. LLM' who actually took the effort to diagnose me. As well, Gemini provided a more immersive and engaging experience than GPT in both language (GPT says 'just like an actual clinical visit') and in tone. "
   ]
  },
  {
   "cell_type": "markdown",
   "id": "ee60ca03-5411-4e7c-ba8a-ff0b0f5e2180",
   "metadata": {},
   "source": [
    "Plus, in my own experience with doctors, no conversation would ever end so abruptly with just a 'you're wrong about constipation,' and leave it at that."
   ]
  },
  {
   "cell_type": "markdown",
   "id": "5c95908f-e414-445f-a6a6-e4cb6a625c0a",
   "metadata": {},
   "source": [
    "It looks like Gemini has gone 3 for 3 in the Medicine Series. Is there another LLM that may be even better within this subject than Gemini? It's definitely possible. But that's an investigation for another time."
   ]
  }
 ],
 "metadata": {
  "kernelspec": {
   "display_name": "Python 3-12 (COMM4190)",
   "language": "python",
   "name": "python3-12_comm4190"
  },
  "language_info": {
   "codemirror_mode": {
    "name": "ipython",
    "version": 3
   },
   "file_extension": ".py",
   "mimetype": "text/x-python",
   "name": "python",
   "nbconvert_exporter": "python",
   "pygments_lexer": "ipython3",
   "version": "3.12.11"
  }
 },
 "nbformat": 4,
 "nbformat_minor": 5
}
