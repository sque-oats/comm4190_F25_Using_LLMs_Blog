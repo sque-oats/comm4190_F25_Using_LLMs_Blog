{
 "cells": [
  {
   "cell_type": "raw",
   "id": "4d0ee98b-14ec-4d77-8b4e-8a856451ed18",
   "metadata": {},
   "source": [
    "---\n",
    "title: \"Which character are you? Take this quiz to find out!\"\n",
    "description: \"Using Gemini 2.5 Pro to generate this classic fandom hallmark.\" \n",
    "author: \"Suya\"\n",
    "date: \"10/03/2025\"\n",
    "categories:\n",
    "  - LLMs\n",
    "  - Culture\n",
    "---"
   ]
  },
  {
   "cell_type": "markdown",
   "id": "b7e6810b-8f07-4d89-89fc-1bfdfacca3e2",
   "metadata": {},
   "source": [
    "![Naruto Cat](NarutoCat.jpg)"
   ]
  },
  {
   "cell_type": "markdown",
   "id": "92a83c5e-bf77-4efe-bc37-6fa889d90065",
   "metadata": {},
   "source": [
    "# Context"
   ]
  },
  {
   "cell_type": "markdown",
   "id": "7d1fb47b-13ed-43a7-86eb-2070b3e3fd5c",
   "metadata": {},
   "source": [
    "Fandom culture is something that is huge on a global scale. From singers to books to TV shows to comedians, if there's something the slightest bit famous, it will have a fandom. I have seen the most niche K-pop duo with 2 Spotify monthly listeners have one superfan on TikTok going ride-or-die for their music that came out a decade ago, and a Planes (2013 film) fan account fight against everyone calling their movie irrelevant (which it is...) on Twitter. \n",
    "\n",
    "And as a human being on Earth, I have of course been a part of some fandoms. I'll focus on TV shows for this post. In middle school, I really started to love this anime called *Naruto* and at the same time I was joining social media for the first time, so I would consider this my first fandom. As well, I'd loved another show called *Avatar: The Last Airbender* and was finally able to join some online spaces after being a fan in my pre-social media days. \n",
    "\n",
    "A hallmark of my entry was taking fandom quizzes. What character are you? What power would you have in this universe? What house would you be sorted in? The amount of these quizzes available on Quotev, Buzzfeed, etc. is still mind-boggling, and honestly so is the low-quality of the majority of them (\"Do you like playing in dirt\" answer choice = earth bender). "
   ]
  },
  {
   "cell_type": "markdown",
   "id": "0c0a2c73-6842-42f7-9623-7630f7fdc4f3",
   "metadata": {},
   "source": [
    "**Side note:** I think this is a more niche topic that perhaps LLMs aren't really trained on, so it would be interesting to explore what responses LLMs would form."
   ]
  },
  {
   "cell_type": "markdown",
   "id": "a180ade2-9c04-4147-8604-bcf1e3f7c320",
   "metadata": {},
   "source": [
    "# Now for the Quizzes"
   ]
  },
  {
   "cell_type": "markdown",
   "id": "3d592012-30dd-49ce-a82a-233839337fca",
   "metadata": {},
   "source": [
    "I decided to do two quizzes across two fandoms, prompting exclusively in Gemini 2.5 Pro."
   ]
  },
  {
   "cell_type": "markdown",
   "id": "1ff214a4-c2f2-4cc7-9c4c-f795fbeadc28",
   "metadata": {},
   "source": [
    "## Naruto:"
   ]
  },
  {
   "cell_type": "markdown",
   "id": "98531ec0-d6d4-465a-b212-cf31d650b124",
   "metadata": {},
   "source": [
    "**Prompt:**\n",
    "> I am a Naruto fan. Generate me a short (< 10 questions) quiz on identifying what Naruto character I would be."
   ]
  },
  {
   "cell_type": "markdown",
   "id": "0648a726-dace-42e0-8702-5092511f7156",
   "metadata": {},
   "source": [
    "**Response**<br>\n",
    "Which Naruto Character Are You? <br>\n",
    "1. A challenging mission is assigned to your team. What's your immediate thought?<br>\n",
    "a) \"Alright, let's go! I'll protect everyone and never give up, believe it!\"<br>\n",
    "b) \"What a drag... Let's just figure out the smartest, quickest way to get this over with.\"<br>\n",
    "c) \"This is an opportunity to test my power and prove my strength.\"<br>\n",
    "d) \"I'll do my best to support the team and make sure no one gets hurt.\"<br>\n",
    "e) \"First, let's analyze the situation and formulate a balanced plan of attack.\"<br><br>\n",
    "\n",
    "2. What is your greatest asset in a fight? <br>\n",
    "a) My boundless energy and unbreakable determination.<br>\n",
    "b) My strategic intellect; I'm always ten steps ahead of my opponent.<br>\n",
    "c) My raw talent and powerful, unique jutsu.<br>\n",
    "d) My precise chakra control and ability to support my comrades.<br>\n",
    "e) My vast experience and ability to adapt to any opponent.<br><br>\n",
    "\n",
    "3. What drives you forward more than anything?<br>\n",
    "a) The bonds I share with my friends and my dream to be acknowledged by everyone.<br>\n",
    "b) The desire to protect my friends and live a simple, peaceful life.<br>\n",
    "c) The need to restore my clan's honor and achieve ultimate power.<br>\n",
    "d) The goal of proving my own worth and no longer being a burden to others.<br>\n",
    "e) The responsibility to protect the next generation and honor the memory of fallen comrades.<br><br>\n",
    "\n",
    "4. How do you view a powerful rival?<br>\n",
    "a) They are my friend and the person I must surpass to get stronger!<br>\n",
    "b) Their existence is troublesome, but a good challenge for my mind.v\n",
    "c) They are an obstacle that must be overcome on my path.<br>\n",
    "d) I admire their strength and hope to one day stand as their equal.<br>\n",
    "e) I see their potential and feel a responsibility to guide them down the right path.<br><br>\n",
    "\n",
    "5. Pick your preferred type of jutsu.<br>\n",
    "a) A massive, powerful, and straightforward attack.<br>\n",
    "b) A clever technique that immobilizes or outsmarts the enemy.<br>\n",
    "c) A deadly and visually impressive elemental style.<br>\n",
    "d) A technique that can heal allies or shatter obstacles with focused power.<br>\n",
    "e) A versatile and legendary technique copied from a worthy opponent.<br><br>\n",
    "\n",
    "6. What is your biggest personal flaw?<br>\n",
    "a) I can be loud, impulsive, and a bit naive.<br>\n",
    "b) I lack motivation and can be incredibly lazy.<br>\n",
    "c) I can be arrogant, and my ambition sometimes isolates me from others.<br>\n",
    "d) I sometimes struggle with self-confidence and compare myself to others.<br>\n",
    "e) I can be emotionally distant and am often haunted by the past.<br><br>\n",
    "\n",
    "Results:<br>\n",
    "Now, count which letter you chose the most!<br><br>\n",
    "\n",
    "If you chose mostly A's, you are Naruto Uzumaki!<br>\n",
    "You are optimistic, incredibly determined, and value your friends above all else. You face every challenge head-on with a smile and have the unique ability to inspire everyone you meet.<br>\n",
    "\n",
    "If you chose mostly B's, you are Shikamaru Nara!<br>\n",
    "You are a natural genius with a brilliant strategic mind, even if you find most things \"troublesome.\" You prefer a quiet life but will always step up with a flawless plan to protect your friends when it counts.<br>\n",
    "\n",
    "If you chose mostly C's, you are Sasuke Uchiha!<br>\n",
    "You are a prodigy driven by a dark past and a desire for power. You are cool, talented, and walk your own path, severing bonds if you believe it's necessary to achieve your goals.<br>\n",
    "\n",
    "If you chose mostly D's, you are Sakura Haruno!<br>\n",
    "You are intelligent, compassionate, and incredibly resilient. Though you once stood in the shadow of your teammates, you've trained hard to become a powerful and reliable kunoichi, serving as the heart of your team.<br>\n",
    "\n",
    "If you chose mostly E's, you are Kakashi Hatake!<br>\n",
    "You are a calm, experienced, and renowned leader. You appear laid-back and mysterious, but underneath lies a sharp mind and a deep-seated loyalty to your comrades and students. You've seen it all and can handle any situation with skill.<br><br>"
   ]
  },
  {
   "cell_type": "markdown",
   "id": "4975c0df-8cb2-4b73-8da6-236a78735082",
   "metadata": {},
   "source": [
    "> **My Impression:** In terms of answer choice, the generated quiz is so much more descriptive than basically every fandom quiz I've ever taken. However, it appears to me that it does lack a bit in creativity, being very on-the-nose with all character descriptions and putting out less hypothetical questions, which honestly makes this quiz  a bit less interesting. <br>\n",
    "It's also interesting that many of these answer choices were put in the *first-person*, as from my own experience most quizzes are too short to even have a perspective (if there is perspective, it's always *second-person*). <br> <br>\n",
    "*Side note:* If you like Naruto, don't you think it's kind of interesting that they chose to include Shikamaru as an option? Why him out of all of the side characters? Was Gemini trained on some data that informed it that Shikamaru was the mangaka's favorite character overall? If so, the breadth of training is really astounding."
   ]
  },
  {
   "cell_type": "markdown",
   "id": "2afb9c13-b845-42e0-8859-277efed2b222",
   "metadata": {},
   "source": [
    "## Avatar: The Last Airbender"
   ]
  },
  {
   "cell_type": "markdown",
   "id": "68b21ec9-4b2c-4bc0-9f5f-266d6aefc933",
   "metadata": {},
   "source": [
    "**Prompt:**\n",
    "> I am an Avatar: The Last Airbender fan. Generate a short (<10 questions) quiz on what bender I am."
   ]
  },
  {
   "cell_type": "markdown",
   "id": "93a8db3b-ea80-4833-9d1e-13ee036a71f1",
   "metadata": {},
   "source": [
    "**Response:**\n",
    "Which Bender Are You? <br>\n",
    "1. When faced with a major obstacle, what is your first instinct? <br>\n",
    "A) Find a creative way around it. <br>\n",
    "B) Stand your ground and face it head-on. <br>\n",
    "C) Drive through it with passion and determination. <br>\n",
    "D) Adapt your strategy and turn its strength against it. <br><br>\n",
    " \n",
    "2. Which landscape feels most like home to you?<br>\n",
    "A) A high mountain peak with a view for miles.<br>\n",
    "B) A bustling, grand city full of history.<br>\n",
    "C) A volcanic island, brimming with energy.<br>\n",
    "D) A serene home by a lake or the ocean.<br><br>\n",
    "\n",
    "3. Which quality do you value most in yourself?<br>\n",
    "A) Freedom<br>\n",
    "B) Strength<br>\n",
    "C) Power<br>\n",
    "D) Community<br><br>\n",
    "\n",
    "4. In a debate, your style is best described as:<br>\n",
    "A) Evasive and philosophical, preferring to avoid direct confrontation.<br>\n",
    "B) Unyielding and direct, relying on solid facts.<br>\n",
    "C) Aggressive and passionate, aiming to overwhelm your opponent.<br>\n",
    "D) Fluid and adaptable, guiding the conversation where you want it to go.<br><br>\n",
    "\n",
    "5. Choose a guiding principle:<br>\n",
    "A) \"The best way to solve a problem is to avoid it.\"<br>\n",
    "B) \"Be the rock that the river cannot wash away.\"<br>\n",
    "C) \"You must create your own destiny.\"<br>\n",
    "D) \"Change is the only constant.\"<br><br>\n",
    "\n",
    "6. Your ideal fighting style would be:<br>\n",
    "A) Agile and defensive, using circular motions to redirect attacks.<br>\n",
    "B) Rooted and powerful, focusing on neutral jing—waiting and listening.<br>\n",
    "C) Overwhelming and offensive, with explosive, direct strikes.<br>\n",
    "D) Graceful and fluid, turning defense into offense seamlessly.<br><br>\n",
    "\n",
    "Results:<br>\n",
    "Tally up your answers! The letter you chose most often reveals your bending element.<br><br>\n",
    "\n",
    "Mostly A's: You are an Airbender!🌬️<br>\n",
    "You are a free spirit who values freedom and detachment above all else. You prefer to find the path of least resistance and often have a unique, outside-the-box approach to life. You're playful, spiritual, and sometimes a little hard to pin down.<br><br>\n",
    "\n",
    "Mostly B's: You are an Earthbender! ⛰️<br>\n",
    "You are strong, stable, and incredibly resilient. Patience is your virtue, and you approach challenges with a direct, head-on mentality. You are a steadfast and reliable friend who provides a foundation for others.<br><br>\n",
    "\n",
    "Mostly C's: You are a Firebender! 🔥<br>\n",
    "You are driven by passion, ambition, and an inner fire. You have immense willpower and a desire to shape your own path. You are a powerful force of change and a charismatic leader who inspires others with your energy.<br><br>\n",
    "\n",
    "Mostly D's: You are a Waterbender! 🌊<br>\n",
    "You are adaptable, resourceful, and deeply connected to your community. You have a strong sense of empathy and can turn your opponent's energy against them. You go with the flow, understanding that change is a natural and powerful force.<br><br>"
   ]
  },
  {
   "cell_type": "markdown",
   "id": "24ff9ac0-3470-4338-9659-431fb049ec3d",
   "metadata": {},
   "source": [
    "> **My Impression:** This quiz is the slightest bit more philosphical than the first one, but probably only due to the nature of the question I'm centering the quiz around. #2 is such a perfect example of a way too on-the-nose question that I remember haha.  <br>\n",
    "#5 also reflects the sometimes unrealistic expectations that quizzes place on their quiz-takers, like who would resonably think of an ideal fighting style rather than the answer that most aligns with the bending they're hoping for?<br>\n",
    "I do love the cute emojis for each result."
   ]
  },
  {
   "cell_type": "markdown",
   "id": "41c2e7dd-b840-4a47-aa8f-fc5d2dd7095b",
   "metadata": {},
   "source": [
    "# Takeaways"
   ]
  },
  {
   "cell_type": "markdown",
   "id": "95516500-a558-40eb-a9ea-2a9024eac74f",
   "metadata": {},
   "source": [
    "I found it interesting that for two separate prompts in two separate chats, Gemini chose to adhere to exactly 6 questions for each quiz. I find that Gemini was also really accurate in reflecting facts about the shows and their elements, which I find surprising since it can get so specific. It really is amazing how much LLMs have been trained on, to even understand these nitpicky depths on pieces of media.\n",
    "\n",
    "In the end, the quizzes aren't that fun (to me), and are definitely more detailed and on-the-nose than real quizzes. But ultimately, the vibe of not being that satisfying evokes something accurately nostalgic to my own experiences."
   ]
  }
 ],
 "metadata": {
  "kernelspec": {
   "display_name": "Python 3-12 (COMM4190)",
   "language": "python",
   "name": "python3-12_comm4190"
  },
  "language_info": {
   "codemirror_mode": {
    "name": "ipython",
    "version": 3
   },
   "file_extension": ".py",
   "mimetype": "text/x-python",
   "name": "python",
   "nbconvert_exporter": "python",
   "pygments_lexer": "ipython3",
   "version": "3.12.11"
  }
 },
 "nbformat": 4,
 "nbformat_minor": 5
}
