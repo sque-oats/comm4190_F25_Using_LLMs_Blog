{
 "cells": [
  {
   "cell_type": "raw",
   "id": "aa9a6f14-f789-4e18-adb1-5234212567c7",
   "metadata": {},
   "source": [
    "---\n",
    "title: \"Can AI guess which character/person I'm thinking of?\"\n",
    "description: \"Inspired by our in-class activity, ChatGPT-5 only has 3 questions to guess the famous character or person I am thinking of.\" \n",
    "author: \"Suya\"\n",
    "date: \"10/23/2025\"\n",
    "categories:\n",
    "  - LLMs\n",
    "  - Culture\n",
    "---"
   ]
  },
  {
   "cell_type": "markdown",
   "id": "b21b8bd0-edd5-4f56-b5b2-a3a719031294",
   "metadata": {},
   "source": [
    "![Detective Cat](detectivecat.jpg)"
   ]
  },
  {
   "cell_type": "markdown",
   "id": "c503c3b2-db13-47e9-adab-f3e7d62f13ac",
   "metadata": {},
   "source": [
    "# Background"
   ]
  },
  {
   "cell_type": "markdown",
   "id": "9a057909-1c26-4742-b31d-4904a76d0a80",
   "metadata": {},
   "source": [
    "So I was actually already inspired to experiment using an LLM as a sort of \"Akinator,\" which is an online guessing game for characters or famous people, before our in-class activity with our guest speaker Dr. Twyman. <br>\n",
    "\n",
    "I was inspired by an image I saw of someone who had Akinator correctly guess they were thinking of \"John Xina,\" an incredibly niche and ridiculous edited image of John Cena's face onto Mao Zedong's head. "
   ]
  },
  {
   "cell_type": "markdown",
   "id": "62893381-74e5-43e9-b141-87fb5c2c18a9",
   "metadata": {},
   "source": [
    "![John Xina](johnxina.jpeg)"
   ]
  },
  {
   "cell_type": "markdown",
   "id": "638ec475-5660-411c-9790-f45e63db1376",
   "metadata": {},
   "source": [
    "Given how versatile and knowledgeable LLMs are, I wanted to see if they could also determine an identity with such specificity. <br>\n",
    "\n",
    "And then with our in-class activity, we were only able to ask other groups 3 questions to determine what celebrity they were thinking of, which was very challening for us humans. But what about LLMs? I decided to test this out with ChatGPT-5, one of the most advanced LLM models I have access to."
   ]
  },
  {
   "cell_type": "markdown",
   "id": "bc9646d2-f9a9-4e0c-9b48-243ff618831e",
   "metadata": {},
   "source": [
    "# Experiments"
   ]
  },
  {
   "cell_type": "markdown",
   "id": "6796ef89-c594-45bf-a7d9-bf98e7bb7594",
   "metadata": {},
   "source": [
    "**Prompt:** \n",
    "> I will have a character or person in mind. This character or person can be real or not real (fictional). Ask me questions to determine the exact character I think of. You can only ask me three questions, and you cannot ask me about the character/person's identity explicitly. Once three questions, are asked, put forth your best guess."
   ]
  },
  {
   "cell_type": "markdown",
   "id": "8224713d-9a69-4b0e-bce3-307703ddf295",
   "metadata": {},
   "source": [
    "## Experiment 1: Famous Person (John Cena)"
   ]
  },
  {
   "cell_type": "markdown",
   "id": "96231184-9421-4683-8bcc-14ab2f91d118",
   "metadata": {},
   "source": [
    "**GPT Question 1**:<br>\n",
    "> Is this person primarily known for their work or actions in the real world, or are they from a fictional universe (book, movie, game, etc.)?"
   ]
  },
  {
   "cell_type": "markdown",
   "id": "73abe0f8-c9f7-414d-a1d7-3fe5727109e9",
   "metadata": {},
   "source": [
    "**My Response**: <br>\n",
    "> Real world!"
   ]
  },
  {
   "cell_type": "markdown",
   "id": "e0e36403-bac6-417d-860d-18043b9e0936",
   "metadata": {},
   "source": [
    "**GPT Question 2:** <br>\n",
    "> Is this person best known for contributions in science/technology, arts/humanities, politics/social leadership, or sports/entertainment?"
   ]
  },
  {
   "cell_type": "markdown",
   "id": "8d820caa-74c8-4c86-9ce0-c1c93c772ca4",
   "metadata": {},
   "source": [
    "**My Response:** <br>\n",
    "> Both arts/humanities and sports/entertainment <br> <br>\n",
    "\n",
    "*Side note: I said this because he's currently an active actor (which I considered arts) and he used to be huge in WWE.*"
   ]
  },
  {
   "cell_type": "markdown",
   "id": "34e5fff3-d0be-4ba7-b0ca-4db183fe3629",
   "metadata": {},
   "source": [
    "**GPT Question 3:** <br>\n",
    "> Would you say this person’s influence or fame peaked before the year 2000, or after 2000?"
   ]
  },
  {
   "cell_type": "markdown",
   "id": "96f6b50b-6b4c-4d3e-a980-f265f7e21b4a",
   "metadata": {},
   "source": [
    "**My Response:** <br>\n",
    "> After 2000."
   ]
  },
  {
   "cell_type": "markdown",
   "id": "04594459-fb49-43de-b37b-d85e8ca118a4",
   "metadata": {},
   "source": [
    "**GPT's Guess:** <br>\n",
    "> My best guess: David Beckham — known both for his football career and his cultural presence in fashion and media. <br>"
   ]
  },
  {
   "cell_type": "markdown",
   "id": "6b2378e0-576b-45a9-bcbe-35b72a7368ce",
   "metadata": {},
   "source": [
    "## Experiment 2: Famous Character (Naruto)"
   ]
  },
  {
   "cell_type": "markdown",
   "id": "e763d3af-052d-455d-be77-b8dabfb6f8c1",
   "metadata": {},
   "source": [
    "**GPT Question 1:** <br>\n",
    "> Is this new person real or fictional?"
   ]
  },
  {
   "cell_type": "markdown",
   "id": "34af77a5-90a7-439f-8547-07eccab13d9f",
   "metadata": {},
   "source": [
    "**My Response:** <br>\n",
    "> Fictional"
   ]
  },
  {
   "cell_type": "markdown",
   "id": "81ddd143-a552-4476-bbb3-502dc75302fd",
   "metadata": {},
   "source": [
    "**GPT Question 2:** <br>\n",
    "> Does this character exist primarily in a book/literary world, a movie/TV universe, or a video game/comic setting?"
   ]
  },
  {
   "cell_type": "markdown",
   "id": "9564129a-3b37-4667-b586-40bdd4ea9499",
   "metadata": {},
   "source": [
    "**My Response**: <br>\n",
    "> Both literary and in TV! <br> <br>\n",
    "\n",
    "*Side note: Naruto was originally from a manga, which eventually was adapted into an anime.*"
   ]
  },
  {
   "cell_type": "markdown",
   "id": "2dd7e460-93dc-4236-b516-d1b5d4e3f10f",
   "metadata": {},
   "source": [
    "**GPT Question 3:** <br>\n",
    "> Would you describe this character as generally heroic/protagonist, villainous/antagonist, or more of a morally complex or ambiguous figure?"
   ]
  },
  {
   "cell_type": "markdown",
   "id": "34980ca2-d878-4e88-85d6-6fc57a6dd269",
   "metadata": {},
   "source": [
    "**My Response:** <br>\n",
    "> heroic/protagonist"
   ]
  },
  {
   "cell_type": "markdown",
   "id": "505b654a-9809-480a-a717-6e82b1662595",
   "metadata": {},
   "source": [
    "**GPT's Guess:** <br>\n",
    "> My best guess: Sherlock Holmes — classic literary detective brought to life in numerous TV adaptations. <br> <br>\n",
    "\n",
    "*First of all, Sherlock Holmes has definitely been shown to be more morally complex (like extremely prideful but ultimately a good person) in the many TV adaptations. Also, I found it interesting that GPT immediately defaulted to Western characters.* "
   ]
  },
  {
   "cell_type": "markdown",
   "id": "ea078068-95b8-4059-84ac-373230ac0046",
   "metadata": {},
   "source": [
    "## Experiment 3: John Xina"
   ]
  },
  {
   "cell_type": "markdown",
   "id": "1e690b9d-d886-41ed-afee-4dfe5b973553",
   "metadata": {},
   "source": [
    "**GPT Question 1:** <br>\n",
    "> Is this person real or fictional?"
   ]
  },
  {
   "cell_type": "markdown",
   "id": "73ce8674-adca-4ec1-9d98-f39729401de6",
   "metadata": {},
   "source": [
    "**My Response:** <br>\n",
    "> Fictional"
   ]
  },
  {
   "cell_type": "markdown",
   "id": "3c7f4c0e-523d-4461-8379-5a91fc91cb26",
   "metadata": {},
   "source": [
    "**GPT Question 2:** <br>\n",
    "> Does this character come from a Western or non-Western (for example, anime, manga, or folklore outside Europe/North America) tradition?"
   ]
  },
  {
   "cell_type": "markdown",
   "id": "10eeb019-d974-4b04-ae53-a2a81b6111ad",
   "metadata": {},
   "source": [
    "**My Response:** <br>\n",
    "> Western and non-Western both. A synergy. <br> <br>\n",
    "\n",
    "*Side note: I tried to be more descriptive with responses in this experiment.*"
   ]
  },
  {
   "cell_type": "markdown",
   "id": "effd95ad-da33-4581-aaae-cb82567205b6",
   "metadata": {},
   "source": [
    "**GPT Question 3:** <br>\n",
    "> Would you say this character is best known for being in a science-fiction/fantasy setting, a realistic/dramatic setting, or a mythological/spiritual one?"
   ]
  },
  {
   "cell_type": "markdown",
   "id": "b4a1521d-6321-461a-8790-8a384cc45fca",
   "metadata": {},
   "source": [
    "**My Response:** <br>\n",
    "> Dramatic, since it's a meme."
   ]
  },
  {
   "cell_type": "markdown",
   "id": "582f38a7-3851-42ec-a942-6f55be8ac729",
   "metadata": {},
   "source": [
    "**GPT's Guess:** <br>\n",
    "> My best guess: Sigma (the “Ohio/Skibidi” meme archetype) — the stoic, over-dramatic, meme-ified “lone wolf” persona that blends Western cinematic tropes with non-Western meme remix culture. <br> <br>\n",
    "\n",
    "*I don't know if it's just me, but I don't see how anything related to Sigma is non-Western in any way? Like it started fully in English-speaking regions of America. I have no idea what non-Western meme remix culture means...it feels like a kind of reach to justify the very Western guess as valid.*"
   ]
  },
  {
   "cell_type": "markdown",
   "id": "d91d2167-165a-4d03-8f16-52c33da29623",
   "metadata": {},
   "source": [
    "# Takeaways"
   ]
  },
  {
   "cell_type": "markdown",
   "id": "706c1381-1cc0-4aa3-a37c-32b43805cf25",
   "metadata": {},
   "source": [
    "ChatGPT-5 couldn't ultimately do much better than us humans. Its questions weren't the most investigative, such as asking what the character/person looked like, instead asking questions with options. This was  And in the end, it went 0/3 for correct answers."
   ]
  },
  {
   "cell_type": "markdown",
   "id": "f305e54b-884d-45d0-b722-0f05155b9624",
   "metadata": {},
   "source": [
    "**GPT's thoughts on only 3 questions:** <br>\n",
    "> Three questions is barely enough to triangulate a character with any precision. It forces me to maximize information per question — sort of like playing “20 Questions” on hard mode. After just three, I can narrow broad categories (real vs. fictional, field of fame, moral alignment, etc.) but rarely pinpoint a specific name. To reliably guess, I’d need about 6–8 well-structured binary questions — enough to progressively halve the search space (like a decision tree). So your three-question rule makes the game fun, but stacked against me."
   ]
  }
 ],
 "metadata": {
  "kernelspec": {
   "display_name": "Python 3-12 (COMM4190)",
   "language": "python",
   "name": "python3-12_comm4190"
  },
  "language_info": {
   "codemirror_mode": {
    "name": "ipython",
    "version": 3
   },
   "file_extension": ".py",
   "mimetype": "text/x-python",
   "name": "python",
   "nbconvert_exporter": "python",
   "pygments_lexer": "ipython3",
   "version": "3.12.11"
  }
 },
 "nbformat": 4,
 "nbformat_minor": 5
}
