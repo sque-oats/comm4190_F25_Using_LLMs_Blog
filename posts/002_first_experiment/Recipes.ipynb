{
 "cells": [
  {
   "cell_type": "raw",
   "id": "a9825983-7b96-43a2-8c76-b822c0af80cf",
   "metadata": {},
   "source": [
    "---\n",
    "title: \"Can ChatGPT-5 cook?\"\n",
    "description: \"Asking ChatGPT to find and/or generate simple recipes for college students.\" \n",
    "author: \"Suya\"\n",
    "date: \"9/8/2025\"\n",
    "categories:\n",
    "  - LLMs\n",
    "  - Learning\n",
    "  - Food\n",
    "---"
   ]
  },
  {
   "cell_type": "markdown",
   "id": "989dfc98-805e-45a2-8dae-f00a321c63bb",
   "metadata": {},
   "source": [
    "![Chef Cat](CookingCat.jpg)"
   ]
  },
  {
   "attachments": {},
   "cell_type": "markdown",
   "id": "2f8dfa30-b40c-4384-b7f7-9871f1f2d7d1",
   "metadata": {},
   "source": [
    "## Background"
   ]
  },
  {
   "attachments": {},
   "cell_type": "markdown",
   "id": "26cafa18-402e-47d6-a8bd-0f6aadb95207",
   "metadata": {},
   "source": [
    "As someone who really loves good food, I unfortunately am a really lazy cooker. Exhausted after a long day, I have a small roster of really simple recipes that I follow. Some of my friends more passionate and skilled in cooking have started using ChatGPT to find high-quality recipes, so now I wonder: can GPT do this for really easy, low-level recipes as well?"
   ]
  },
  {
   "cell_type": "markdown",
   "id": "ecdb4e3f-bd1f-405c-96d2-6454b14db8ea",
   "metadata": {},
   "source": [
    "## GPT is a bit reductive, or perhaps doesn't care much for food"
   ]
  },
  {
   "cell_type": "markdown",
   "id": "c214c7e7-1a59-45e7-b522-fc98d4873356",
   "metadata": {},
   "source": [
    "Prompt: I'm a tired, hard-working college student. Please develop or refer me to easy recipes for me to cook.\n",
    "\n",
    "Response: Got it — you want easy, low-effort recipes that work for a tired college student. I’ll give you a mix of super quick meals, one-pan recipes, and no-fuss snacks. All of these can be made with cheap, common ingredients and minimal cooking gear."
   ]
  },
  {
   "cell_type": "markdown",
   "id": "4c869ae9-727d-43f8-8133-6f523ae1dbee",
   "metadata": {},
   "source": [
    "![GPT first response](FirstResponse.png)"
   ]
  },
  {
   "cell_type": "markdown",
   "id": "01dde475-3619-480b-8e2e-40fb0f053d22",
   "metadata": {},
   "source": [
    "From this simple prompt, GPT output a very, very expansive variety of options for me to choose from. But one very important thing was missing from the recipes that I requested: no steps. Even for really simple recipes such as egg fried rice, there is still is a certain amount of knowledge required that (I assume) most people with little cooking experience would know. For example, which ingredient goes into the pan first? \n",
    "\n",
    "I was surprised that GPT was missing these steps, since I've also used GPT for lab protocols or software help such as with (used often in research) ImageJ. And with minimal prompting, GPT would do a very in-depth breakdown of every single step to take. "
   ]
  },
  {
   "cell_type": "markdown",
   "id": "21f4db36-9b22-4d92-b94c-25b5c337c216",
   "metadata": {},
   "source": [
    "Prompt: Include steps please\n",
    "\n",
    "Perfect — let me turn those quick ideas into step-by-step recipes so you can follow them even when you’re tired. I’ll keep them short and no-nonsense."
   ]
  },
  {
   "cell_type": "markdown",
   "id": "637d6676-e7b5-4cc6-8309-03a14e8c891a",
   "metadata": {},
   "source": [
    "![GPT second response](SecondResponse.png)"
   ]
  },
  {
   "cell_type": "markdown",
   "id": "6a32c135-5854-4e2b-943e-e7b6a6ec3b2c",
   "metadata": {},
   "source": [
    "Well I must admit that this egg fried rice recipe seems pretty similar to what I do at home, except it's missing some essential aromatics (garlic and ginger) that barely lengthen the preparation. This recipe seems more akin to something that white Americans would cook (no offense), but this makes sense as I am using an English language LLM who would take recipes from those who write in English. And Americanized Chinese food recipes absolutely drown out the few Chinese cooks out there in the English recipe blogging community\n",
    "\n",
    "Side note: From the original prompt saying I was tired and hardworking, GPT clearly assumed that meant I was also in a rush and not in the mood for flowery prose (perhaps someone who doesn't care the finer details in cooking). Which, is likely but not necessarily true for students like this, so it's interesting to see how GPT thinks further ahead with these assumptions to cater towards the user. "
   ]
  },
  {
   "cell_type": "markdown",
   "id": "7a053cba-55be-412d-8d73-162807c11e3d",
   "metadata": {},
   "source": [
    "Overall, GPT seems decently sufficient at generating these recipe ideas and I can completely bypass the extremely long and annoying prose that always takes up more space than the actual recipe on most websites. However, GPT lacks specificity without prompting, but that's something that can be easily remedied. Something I might try in the future is plugging in what random ingredients I actually have in the fridge and see if GPT is able to generate a working recipe from that. But I'll save that for a future blog."
   ]
  }
 ],
 "metadata": {
  "kernelspec": {
   "display_name": "Python 3-12 (COMM4190)",
   "language": "python",
   "name": "python3-12_comm4190"
  },
  "language_info": {
   "codemirror_mode": {
    "name": "ipython",
    "version": 3
   },
   "file_extension": ".py",
   "mimetype": "text/x-python",
   "name": "python",
   "nbconvert_exporter": "python",
   "pygments_lexer": "ipython3",
   "version": "3.12.11"
  }
 },
 "nbformat": 4,
 "nbformat_minor": 5
}
