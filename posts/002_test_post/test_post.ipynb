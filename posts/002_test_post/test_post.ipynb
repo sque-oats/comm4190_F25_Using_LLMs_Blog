{
 "cells": [
  {
   "cell_type": "raw",
   "id": "0c1e301a-6f81-4d18-a1d3-f5c26fc9086f",
   "metadata": {},
   "source": [
    "---\n",
    "title: \"Suya's Test\"\n",
    "description: \"Testing Blogging\" \n",
    "author: \"Suya\"\n",
    "date: \"9/3/2025\"\n",
    "categories:\n",
    "  - Learning\n",
    "---"
   ]
  },
  {
   "cell_type": "markdown",
   "id": "54cf5fbc-7e5c-444e-bed9-cf2b0f4d1aa6",
   "metadata": {},
   "source": [
    "I'm testing this out."
   ]
  },
  {
   "cell_type": "code",
   "execution_count": null,
   "id": "230c9fea-4745-497e-96d9-be2f276e50cc",
   "metadata": {},
   "outputs": [],
   "source": []
  }
 ],
 "metadata": {
  "kernelspec": {
   "display_name": "Python 3-12 (COMM4190)",
   "language": "python",
   "name": "python3-12_comm4190"
  },
  "language_info": {
   "codemirror_mode": {
    "name": "ipython",
    "version": 3
   },
   "file_extension": ".py",
   "mimetype": "text/x-python",
   "name": "python",
   "nbconvert_exporter": "python",
   "pygments_lexer": "ipython3",
   "version": "3.12.11"
  }
 },
 "nbformat": 4,
 "nbformat_minor": 5
}
