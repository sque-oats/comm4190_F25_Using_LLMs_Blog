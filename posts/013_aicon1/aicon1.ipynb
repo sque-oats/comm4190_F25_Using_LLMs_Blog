{
 "cells": [
  {
   "cell_type": "raw",
   "id": "c56c4df5-427e-4279-82ff-18e1cf135f94",
   "metadata": {},
   "source": [
    "---\n",
    "title: \"Money -> AI Hype -> Implementation\"\n",
    "description: \"Current Thoughts on the AI Con. Review #1.\" \n",
    "author: \"Suya\"\n",
    "date: \"10/16/2025\"\n",
    "categories:\n",
    "  - LLMs\n",
    "  - The AI Con\n",
    "  - Book Review\n",
    "---"
   ]
  },
  {
   "cell_type": "markdown",
   "id": "ec689dff-4896-4b41-9632-c6391682049d",
   "metadata": {},
   "source": [
    "![Reading Cat](aicon1Cat.jpg)"
   ]
  },
  {
   "cell_type": "markdown",
   "id": "1e5bcc42-458b-4e83-8f6f-36d053fc0c5f",
   "metadata": {},
   "source": [
    "To me, *The AI Con* is a well-written, opinionated, and nuanced book. With the authors being a linguist and sociologist, the perspectives being given are really thoroughly developed. <br>Touted in class as the \"Gloomer\" book, I do think that the authors (who speak with one, united voice throughout the chapters) also acknowledge the \"Bloomer\" perspective through positive developments such as easing the bulk of adminstrative work or amazing medical advances. However, in this book, the cons of AI and LLM development unfortunately outweigh the pros."
   ]
  },
  {
   "cell_type": "markdown",
   "id": "303d95cd-5b29-47b7-83b1-68053e3ae7c2",
   "metadata": {},
   "source": [
    "## Background"
   ]
  },
  {
   "cell_type": "markdown",
   "id": "7bcb8b3b-555b-4b4b-bfba-1b3943648580",
   "metadata": {},
   "source": [
    "So for this book, I've somewhat discussed it earlier in my post titled **Doom and Gloom = More Hype?**. However, I developed that post after only reading part of the introduction (not having reached the first chapter yet), so I consider this my first real review. "
   ]
  },
  {
   "cell_type": "markdown",
   "id": "ee60a382-df8b-486f-b939-f51e23b36af7",
   "metadata": {},
   "source": [
    "(The concept of Doom = Hype is a continuing theme even after the introduction however.)"
   ]
  },
  {
   "cell_type": "markdown",
   "id": "2ea46066-650d-47d4-bcc3-269af364b462",
   "metadata": {},
   "source": [
    "## Where I'm at Now"
   ]
  },
  {
   "cell_type": "markdown",
   "id": "8e33087c-bbe1-4d6e-9e06-f83e4cef07e6",
   "metadata": {},
   "source": [
    "Reading along, I realized that this book specifically focuses on how detrimental AI hype is to society, and shows how this hype manifests in a lot of different ways."
   ]
  },
  {
   "cell_type": "markdown",
   "id": "1d2ed835-3f80-4db9-acbf-9f9ce5cf83e0",
   "metadata": {},
   "source": [
    "A lot of argumentative points are continuously made throughout my reading (e.g. *\"The drawing of false equivalences between the human brain and machines [...] inspires awe, which, it turns out, can be used to reel in boatloads of money from investors whipped into a FOMO frenzy.\"*). And with these points are a lot of specific examples (sometimes too specific and wordy for me), with a thorough detailing of how LinkedIn cofounder Reid Hoffman raked in over a billion dollars as a co-founder on some AI startup that barely even exists anymore."
   ]
  },
  {
   "cell_type": "markdown",
   "id": "0efe6bc3-cfd6-46b8-901a-db7c67abce06",
   "metadata": {},
   "source": [
    "It's been really interesting to learn about how AI pervades our lives in ways I hadn't even considered before, such as the U.S. federal government implementing \"AI social workers\" to deal with child abuse cases...and a big reason for this is because this saves money, money the government would otherwise have to spend on hiring real social workers."
   ]
  },
  {
   "cell_type": "markdown",
   "id": "d99351b6-8bd0-4e47-9e04-2e3ea61e8915",
   "metadata": {},
   "source": [
    "Overall, the amount of strong evidence that the authors use to back up every single point and the fact that I was already more critical of AI coming into this class means I don't have any disagreements or dislikes (beyond writing style occasionally) so far within this book. I'm excited to continue reading and learn more about how AI and AI implementation is impacting society. <br>"
   ]
  },
  {
   "cell_type": "markdown",
   "id": "4cff3263-50e4-4967-bc7d-5df4ae9deccd",
   "metadata": {},
   "source": [
    "Side note: Having already asked LLMs their \"opinions\" on perspectives on AI, and on AI hype as well, I have no new experiments in mind from my reading at this point, but experiments will be developed in the future."
   ]
  }
 ],
 "metadata": {
  "kernelspec": {
   "display_name": "Python 3-12 (COMM4190)",
   "language": "python",
   "name": "python3-12_comm4190"
  },
  "language_info": {
   "codemirror_mode": {
    "name": "ipython",
    "version": 3
   },
   "file_extension": ".py",
   "mimetype": "text/x-python",
   "name": "python",
   "nbconvert_exporter": "python",
   "pygments_lexer": "ipython3",
   "version": "3.12.11"
  }
 },
 "nbformat": 4,
 "nbformat_minor": 5
}
