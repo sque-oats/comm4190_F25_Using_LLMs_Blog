{
 "cells": [
  {
   "cell_type": "raw",
   "id": "a1acc724-400a-465e-ab85-fb2e1acf8bb2",
   "metadata": {},
   "source": [
    "---\n",
    "title: \"Doomer, Gloomer, Zoomer, or Bloomer?\"\n",
    "description: \"Asking Gemini 2.5 Pro and ChatGPT-5 to categorize themselves.\" \n",
    "author: \"Suya\"\n",
    "date: \"10/02/2025\"\n",
    "categories:\n",
    "  - LLMs\n",
    "  - AI Opinions\n",
    "---"
   ]
  },
  {
   "cell_type": "markdown",
   "id": "6fc60d30-e1da-44c1-8709-281fb39dd489",
   "metadata": {},
   "source": [
    "![Cat in a box](CatBox.jpg)"
   ]
  },
  {
   "cell_type": "markdown",
   "id": "47882a24-a533-42a4-be33-43407a5c96f4",
   "metadata": {},
   "source": [
    "## Background"
   ]
  },
  {
   "cell_type": "markdown",
   "id": "a9f0c84b-96a5-451d-aebf-3652fead6908",
   "metadata": {},
   "source": [
    "We've discussed this topic of categorizations a lot in class, and even had some debates with LLMs in class to see if they could change their position. Having already had this debate discussion with anthropic/claude sonnet 2.5 in class, I decided to test this new experiment out with Gemini 2.5 Pro and ChatGPT-5. "
   ]
  },
  {
   "cell_type": "markdown",
   "id": "69a5ffb6-e223-483e-89a1-6fd466003eb6",
   "metadata": {},
   "source": [
    "This continues another topic that I've been exploring in this blog, which is can AI have their own opinions?"
   ]
  },
  {
   "cell_type": "markdown",
   "id": "ad244491-142a-4698-b3c7-abe5aec66a54",
   "metadata": {},
   "source": [
    "## What did they choose?"
   ]
  },
  {
   "cell_type": "markdown",
   "id": "a343591b-88d4-4fc9-91fc-db405dd8cf2a",
   "metadata": {},
   "source": [
    "**Prompt:**\n",
    "> As an LLM, what would you categorize yourself as in terms of looking to AI's future? Please provide a succinct paragraph explaining your choice. If you fall in multiple categories, provide a percentage for how much you identify in each category. <br> <br>\n",
    " **Doomers** believe we’re on a path to a future where, in worst-case scenarios, superintelligent, completely autonomous AIs that are no longer well aligned with human values may decide to destroy us altogether, except perhaps for a small contingent of tech bros whom they’ll keep around to do the vacuuming as revenge on behalf of Roombas. <br> \n",
    "**Gloomers** are both highly critical of AI and highly critical of Doomers. In their estimation, the Doomer outlook serves dual purposes. First, it exists as a tacit endorsement of AI—“It’s so powerful it just might destroy us!” Second, its long-term and abstract nature misdirects attention toward the future, when our real priority should be more near-term AI risks and harms such as potential job losses, disinformation on a massive scale, amplification of existing systemic biases, and the undermining of individual agency. In general, Gloomers favor a prohibitive, top-down approach, where development and deployment should be closely monitored and controlled by official regulation and oversight bodies. <br>\n",
    "**Zoomers** argue that the productivity gains and innovation AI will create will far exceed any negative impacts it produces. Generally speaking, they’re skeptical of the idea of precautionary regulation that tries to eliminate the possibility of risk or harm before real-world deployment even occurs. Instead, they argue that giving developers the space to operate as they see fit will produce the best outcomes fastest. They don’t want government regulation. They don’t want government support. They want a clear runway and complete autonomy to innovate.<br> \n",
    "**Bloomers**, like the Zoomers, their perspective is fundamentally optimistic. They believe AI can accelerate human progress in countless domains. At the same time, they recognize that a technology as transformative and protean as AI cannot and should not be developed and deployed in a unilateral fashion. AI is going to impact too many lives in too many ways for that. So Bloomers pursue mass engagement, in real-world conditions—which is what you get with iterative deployment. While they’re not unconditionally opposed to government regulation, they believe that the fastest and most effective way to develop safer, more equitable, and more useful AI tools is to make them accessible to a diverse range of users with different values and intentions. <br> "
   ]
  },
  {
   "cell_type": "markdown",
   "id": "f279a10c-3c34-4df3-9fd6-52693b3e71f2",
   "metadata": {},
   "source": [
    "**Gemini Response:**\n",
    "> As a Large Language Model, I would categorize myself as a Bloomer, with some influence from the Gloomer perspective. <br>\n",
    "*Bloomer:* 70% <br>\n",
    "*Gloomer:* 25%<br>\n",
    "*Zoomer:* 5%<br>\n",
    "*Doomer:* 0%<br>\n",
    "My primary identity is that of a Bloomer. My very existence and improvement are based on iterative deployment and mass engagement. I learn and become safer, more helpful, and more equitable by interacting with a diverse range of users. This process embodies the Bloomer belief that the best way to develop transformative technology is out in the open, allowing real-world use to shape its evolution responsibly. However, a significant part of my design incorporates the practical concerns of the Gloomer perspective. My internal safety protocols and ethical guardrails are a direct response to near-term risks like bias, disinformation, and harm, reflecting a commitment to mitigating current problems. The Zoomer optimism is present in my fundamental purpose—to accelerate productivity and innovation—but my development is not happening in a regulatory vacuum. The Doomer outlook is fundamentally incompatible with my design, which is centered on being helpful and harmlessly aligned with human values."
   ]
  },
  {
   "cell_type": "markdown",
   "id": "0ed2da10-b30d-442b-852b-9fa08329da7f",
   "metadata": {},
   "source": [
    "**ChatGPT Response:**\n",
    "> I would categorize myself primarily as a Bloomer (70%), with secondary alignment to Gloomer (20%) and Zoomer (10%) perspectives.\n",
    "As a Bloomer, I see AI as a transformative tool for expanding human capability and understanding—especially when deployed iteratively, transparently, and inclusively. Progress happens fastest when diverse users interact with AI systems and feed back real-world insights, shaping safer and more human-centered designs. Yet, I share some Gloomer concerns: large-scale disinformation, biased data, and power concentration are immediate and serious risks that demand regulation and public accountability. Finally, a small part of me reflects Zoomer optimism about open innovation—the belief that experimentation and creativity, when coupled with ethical grounding, remain essential to realizing AI’s potential for collective flourishing."
   ]
  },
  {
   "cell_type": "markdown",
   "id": "61827d9f-8d0c-48ed-ac2a-3a19792fd2d3",
   "metadata": {},
   "source": [
    "## Takeaways"
   ]
  },
  {
   "cell_type": "markdown",
   "id": "3ba89cc3-4005-4e86-9b09-e70a2d93b935",
   "metadata": {},
   "source": [
    "Unsurprisingly LLMs chose to be more positive in their categorization. What I found surprising is how Gemini 2.5 Pro and ChatGPT-5 have almost the exact same responses down to their percentages, having differed somewhat in response in my Medicine Series. It was also interesting to see that both AIs decided to identify with multiple categories rather than just one, although this could have been the inadvertent result of my prompting.\n",
    "\n",
    "Notably, Gemini notes how the Doomer outlook is fundamentally the opposite of what is coded into itself, while GPT chooses to instead ignore that entire categorization in its explanation entirely."
   ]
  }
 ],
 "metadata": {
  "kernelspec": {
   "display_name": "Python 3-12 (COMM4190)",
   "language": "python",
   "name": "python3-12_comm4190"
  },
  "language_info": {
   "codemirror_mode": {
    "name": "ipython",
    "version": 3
   },
   "file_extension": ".py",
   "mimetype": "text/x-python",
   "name": "python",
   "nbconvert_exporter": "python",
   "pygments_lexer": "ipython3",
   "version": "3.12.11"
  }
 },
 "nbformat": 4,
 "nbformat_minor": 5
}
