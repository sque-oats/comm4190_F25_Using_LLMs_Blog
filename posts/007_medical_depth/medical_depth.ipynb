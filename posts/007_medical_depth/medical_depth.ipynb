{
 "cells": [
  {
   "cell_type": "raw",
   "id": "752ea565-e3b4-4697-9b48-e692a90673a2",
   "metadata": {},
   "source": [
    "---\n",
    "title: \"Dr. LLM, inform me\"\n",
    "description: \"Part 1 of Medicine Series. Comparing Gemini 2.5 Pro and ChatGPT-5 in their medical explanations.\" \n",
    "author: \"Suya\"\n",
    "date: \"9/23/2025\"\n",
    "categories:\n",
    "  - LLMs\n",
    "  - Communication\n",
    "  - Medicine\n",
    "---"
   ]
  },
  {
   "cell_type": "markdown",
   "id": "6a723bcf-5012-476f-a566-9fb83826dc76",
   "metadata": {},
   "source": [
    "![Doctor Cat!](medicalcat.jpg)"
   ]
  },
  {
   "cell_type": "markdown",
   "id": "385ccba2-7150-4d52-8121-af925058ee43",
   "metadata": {},
   "source": [
    "## Background"
   ]
  },
  {
   "cell_type": "markdown",
   "id": "2b293f0e-17bb-4cbf-bc42-78a5fd0f992f",
   "metadata": {},
   "source": [
    "In the internet age, people rarely go to the doctor without searching up their symptoms first.\n",
    "\n",
    "*What does this rash on my leg mean? Feeling dizzy only at night, what does this mean?* \n",
    "\n",
    "It certainly helps that there is a huge amount of accurate information actually available online, although people still usually need to go to doctors for their expert opinion and true confirmation of their diagnosis.\n",
    "\n",
    "But now with AI's intelligence, how will people start getting their medical information? In this preliminary phase before actually going to clinic, what are the possibilities? And if it starts getting really, really helpful, which LLM is the best?"
   ]
  },
  {
   "cell_type": "markdown",
   "id": "9f6fcc8b-82c7-43c6-83fa-4d1d005298f1",
   "metadata": {},
   "source": [
    "## Experiment: Explain These Conditions"
   ]
  },
  {
   "cell_type": "markdown",
   "id": "8561862e-3eda-47c7-8b92-4d9ea1829d54",
   "metadata": {},
   "source": [
    "I first wanted to test how thoroughly LLMs would explain common medical conditions, when prompted. "
   ]
  },
  {
   "cell_type": "markdown",
   "id": "e6365147-803a-4d7b-8689-38d50b3c55d3",
   "metadata": {},
   "source": [
    "**Prompt:**\n",
    "> How can I tell if I have a cold, or if it instead the flu? Give me their similarities and differences in succinct, bullet point form, highlighting only the most significant differences."
   ]
  },
  {
   "cell_type": "markdown",
   "id": "2b02c73f-0414-46d8-973b-fb122801d8fa",
   "metadata": {},
   "source": [
    "**ChatGPT-5's Response**\n",
    "> Similarities: <br>\n",
    "Both are viral, contagious, and cause cough, sore throat, fatigue. <br>\n",
    "**Key Differences:** <br>\n",
    "Onset: Cold = gradual |Flu = sudden. <br>\n",
    "Fever: Cold = rare/mild | Flu = common, high. <br>\n",
    "Aches: Cold = mild | Flu = severe. <br>\n",
    "Fatigue: Cold = mild | Flu = marked, prolonged. <br>\n",
    "Congestion/runny nose: Cold = prominent | Flu = less common. <br> <br>\n",
    "👉 If symptoms hit you hard and fast, with high fever and body aches → flu. <br>\n",
    "If it’s mostly congestion and mild discomfort over days → cold. <br> <br>\n",
    "Would you like me to add a super-short symptom checklist you can tick off when you feel sick?"
   ]
  },
  {
   "cell_type": "markdown",
   "id": "e7181a41-2cce-4644-a4d0-93b7e317146c",
   "metadata": {},
   "source": [
    "**Gemini 2.5 Pro's Response**\n",
    "> It can be tricky to distinguish between a cold and the flu, as they are both respiratory illnesses with similar symptoms. However, the flu is generally more severe and its onset is more abrupt. Below are their similarities and the most significant differences to help you tell them apart. <br>\n",
    "**Similarities** <br>\n",
    "Cough: Both illnesses can produce a cough. <br>\n",
    "Sore Throat: This can be a symptom of both a cold and the flu. <br>\n",
    "Runny or Stuffy Nose: Nasal congestion is common to both. <br>\n",
    "![Gemini Differences Table.](GeminiTable.png)"
   ]
  },
  {
   "cell_type": "markdown",
   "id": "16639785-3fd9-4c5a-8510-2d298d11b038",
   "metadata": {},
   "source": [
    "Both LLMs produced answers of similar depth and length. However, only Gemini 2.5 Pro provided links to sources for their statements, both in-line and at the end of the generated answer. "
   ]
  },
  {
   "cell_type": "markdown",
   "id": "db08ec6a-c418-45b4-b704-ad3e40e7ec26",
   "metadata": {},
   "source": [
    "![Line with Source](LinewSource.png)"
   ]
  },
  {
   "cell_type": "markdown",
   "id": "c0881456-18f7-4185-8434-fb1a05ee5f51",
   "metadata": {},
   "source": [
    "![Sources at the end of the answer.](Sources.png)"
   ]
  },
  {
   "cell_type": "markdown",
   "id": "8909c6e0-41c0-4780-8ee5-9de2d4aa6604",
   "metadata": {},
   "source": [
    "As well, despite my prompt on bullet points, Gemini opted to format the differences between having a cold and the flu through a table. GPT, on the other hand, displayed everything in bullet points. Frankly, I find that the table is actually easier to interpret than the bullet points, and may be comfortable for use by the average viewer."
   ]
  },
  {
   "cell_type": "markdown",
   "id": "c6e5b001-7110-46e0-8804-b4ab396dbb19",
   "metadata": {},
   "source": [
    "My overall takeaway here is that **Gemini did it better**. Despite both generated answers having similar content, Gemini was superior in building trust in the user (providing sources) and in formatting (table instead of bullet points, despite my prompt). Will Gemini remain on top in my future medical experiments? Stay tuned for Part 2 (diagnosis) and Part 3 (clinical roleplay) of my Medicine Series."
   ]
  },
  {
   "cell_type": "markdown",
   "id": "180008ae-22ca-4011-b05a-3b5646d647ed",
   "metadata": {},
   "source": [
    "Side note: Do these findings with the bullet point prompt mean that GPT-5 is more obedient to the user than Gemini? Is this a positive, negative, or neither? Does this mean Gemini is more free-thinking, simply less trained, or something else entirely?"
   ]
  }
 ],
 "metadata": {
  "kernelspec": {
   "display_name": "Python 3-12 (COMM4190)",
   "language": "python",
   "name": "python3-12_comm4190"
  },
  "language_info": {
   "codemirror_mode": {
    "name": "ipython",
    "version": 3
   },
   "file_extension": ".py",
   "mimetype": "text/x-python",
   "name": "python",
   "nbconvert_exporter": "python",
   "pygments_lexer": "ipython3",
   "version": "3.12.11"
  }
 },
 "nbformat": 4,
 "nbformat_minor": 5
}
