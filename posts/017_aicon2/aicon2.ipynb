{
 "cells": [
  {
   "cell_type": "raw",
   "id": "7ad935ae-8f30-4d23-871e-8f1a1746a5f6",
   "metadata": {},
   "source": [
    "---\n",
    "title: \"AI != Automation\"\n",
    "description: \"Current Thoughts on The AI Con. Review #2.\" \n",
    "author: \"Suya\"\n",
    "date: \"10/30/2025\"\n",
    "categories:\n",
    "  - LLMs\n",
    "  - The AI Con \n",
    "  - Book Review\n",
    "---"
   ]
  },
  {
   "cell_type": "markdown",
   "id": "e6bcef91-0562-412b-aa69-dc95eb8ff47b",
   "metadata": {},
   "source": [
    "![Cat Lying Down on Book](bookcat2.jpg)"
   ]
  },
  {
   "cell_type": "markdown",
   "id": "6651b591-ea08-4539-b57d-785dec76d114",
   "metadata": {},
   "source": [
    "## AI Hype and the Workforce"
   ]
  },
  {
   "cell_type": "markdown",
   "id": "9a3e313e-9acd-4341-844a-f7e5a08f7583",
   "metadata": {},
   "source": [
    "I'm sure we've all heard the big claims, whether by companies or just people in general, that AI will run people out of jobs pretty soon. Maybe 30% by 2030, 50% by 2050, or 25% by next year. "
   ]
  },
  {
   "cell_type": "markdown",
   "id": "4f29068e-9057-4f76-bf2b-f57127372f77",
   "metadata": {},
   "source": [
    "*The AI Con* discusses a lot of misconceptions that end up culminating in these claims, and they posit these claims as unrealistic at best and false at worst."
   ]
  },
  {
   "cell_type": "markdown",
   "id": "441b2967-594a-4d44-9242-c6f01637c6bc",
   "metadata": {},
   "source": [
    "**1. Replacing Workers != Getting Rid of Them**"
   ]
  },
  {
   "cell_type": "markdown",
   "id": "3b8aa714-3df9-47f1-b3cd-f822a5f7a610",
   "metadata": {},
   "source": [
    "LLMs as they are now are imperfect in their answers. Ask GPT-5 to explain a concept, and it may get it wrong, or have it solve a math problem in an approachable way for high schoolers and it will utilize a proof beyond the average college education (I've experienced this when trying to explain an idea to high schoolers I was tutoring...my first and last time)."
   ]
  },
  {
   "cell_type": "markdown",
   "id": "5505d0c8-298c-43e6-bf32-ae992009ad56",
   "metadata": {},
   "source": [
    "This isn't stopping corporations for rolling out AI usage in their workflows. Because of AI's penchant for making these small but significant mistakes, it still remains that people have to fix them. "
   ]
  },
  {
   "cell_type": "markdown",
   "id": "2432ba61-1a5a-4e8f-a20c-402539a6ad3b",
   "metadata": {},
   "source": [
    "I'm sure there has been a net loss of job opportunities with this shift, but it's not as significant as it seems."
   ]
  },
  {
   "cell_type": "markdown",
   "id": "2d03a3d9-847f-4ceb-aecd-3f0f0dcfe525",
   "metadata": {},
   "source": [
    "*I've explored these ideas my blog post called \"Having Gemini 3.5 Pro write a movie script\" specifically through the lense of the writer's strike of Hollywood.* "
   ]
  },
  {
   "cell_type": "markdown",
   "id": "f5dbb379-08f3-4b7f-8a0d-bfca76c5666e",
   "metadata": {},
   "source": [
    "And as these workers are replaced in their old roles and demoted to cleaning up AIs, pay becomes worse, passion is stifled, and ultimately the companies employing these AIs receive the same amount of labor while making a lot more money."
   ]
  },
  {
   "cell_type": "markdown",
   "id": "34066d54-ba0b-4821-9cb8-59a7f9e50ee2",
   "metadata": {},
   "source": [
    "**2. AI Training != Ethical**"
   ]
  },
  {
   "cell_type": "markdown",
   "id": "541e059d-9320-47ea-84f0-fefefeaca17c",
   "metadata": {},
   "source": [
    "My impression before reading this part of *The AI Con* was that LLM models were trained by simply inputting the desired data sets, and basically have the LLM train itself from there, building its own connections. This concept seemed pretty ethical to me."
   ]
  },
  {
   "cell_type": "markdown",
   "id": "4d8512eb-f010-44b3-992f-56e58b01565b",
   "metadata": {},
   "source": [
    "Then in the introduction, I learned about how many LLM-building companies train their models on just scraping as much as possible from the internet with no regard for...well, anything."
   ]
  },
  {
   "cell_type": "markdown",
   "id": "e1be5964-a707-40d1-9fb5-ff5488b1b720",
   "metadata": {},
   "source": [
    "And in my latest readings, I've learned that the LLMs remains appropriate in its responses is by these companies targeting struggling global populations (e.g. Venezuela in the midst of a long-term economic crisis) to underpay them and have them sift through all terrible content and mark things appropriately."
   ]
  },
  {
   "cell_type": "markdown",
   "id": "1bcb369f-0c9b-4fa9-a0d6-9b1c364ff6ef",
   "metadata": {},
   "source": [
    "Beyond what *The AI Con* mentioned (such as the lack of ethics in targeting these populations, underpaying them, no job security, no mental health services), I also think that outsourcing this work prevents knowledge of this work from being spread here in the USA and other wealthier countries that use these LLMs so much. The consumer base remains comfortable and again the companies continue to make lots and lots of money."
   ]
  },
  {
   "cell_type": "markdown",
   "id": "7bacb8f9-fe33-48a7-8d90-59e4aa461a22",
   "metadata": {},
   "source": [
    "## Final Takeaways"
   ]
  },
  {
   "cell_type": "markdown",
   "id": "60a9d1a9-401b-4a79-a335-4c5eab38448f",
   "metadata": {},
   "source": [
    "Learning all of these new things about the creation and utilization of LLMs makes me generally more pessimistic about the development of AI. It is positive to see that ma"
   ]
  },
  {
   "cell_type": "markdown",
   "id": "eebd1309-7b30-4c1e-b286-2eea9211523e",
   "metadata": {},
   "source": [
    "More beneficial AI applications (e.g. administrative summarizer or medical applications) don't even require any kind of deeply traumatic training that conversational LLMs such as GPT or Gemini do. What benefit do these catch-all LLMs serve for us, other than traumatizing and underpaying vulnerable workers in foreign countries and using such exorbitant amounts of energy neighborhoods in America are becoming unlivable? "
   ]
  }
 ],
 "metadata": {
  "kernelspec": {
   "display_name": "Python 3-12 (COMM4190)",
   "language": "python",
   "name": "python3-12_comm4190"
  },
  "language_info": {
   "codemirror_mode": {
    "name": "ipython",
    "version": 3
   },
   "file_extension": ".py",
   "mimetype": "text/x-python",
   "name": "python",
   "nbconvert_exporter": "python",
   "pygments_lexer": "ipython3",
   "version": "3.12.12"
  }
 },
 "nbformat": 4,
 "nbformat_minor": 5
}
