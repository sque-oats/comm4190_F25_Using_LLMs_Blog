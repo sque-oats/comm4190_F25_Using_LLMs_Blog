{
 "cells": [
  {
   "cell_type": "raw",
   "id": "c3855849-f3e7-4816-b0a1-83861605a7c1",
   "metadata": {},
   "source": [
    "---\n",
    "title: \"AI and Art\"\n",
    "description: \"In the role of an art critic, what are the opinions of ChatGPT-5 on art?\" \n",
    "author: \"Suya\"\n",
    "date: \"9/17/2025\"\n",
    "categories:\n",
    "  - LLMs\n",
    "  - AI Opinions\n",
    "---"
   ]
  },
  {
   "cell_type": "markdown",
   "id": "a480b614-5579-477d-873f-4aa646482bf9",
   "metadata": {},
   "source": [
    "![Cat in Museum](CatPainting.jpg)"
   ]
  },
  {
   "cell_type": "markdown",
   "id": "138f271e-fc16-4f39-ad09-7daa622b9621",
   "metadata": {},
   "source": [
    "**Inspiration**"
   ]
  },
  {
   "cell_type": "markdown",
   "id": "1ba95c8f-20c7-4257-a690-53b56c9d5d5b",
   "metadata": {},
   "source": [
    "I'm currently taking a class called \"Art of the Web,\" a design course centered around digital art. This goes beyond pixelated art, thinking of e-mails, websites, and ASCII code as art mediums. As art and its development has moved to computers and these techy platforms, I began to wonder, has there been a sort of \"reverse\" exchange? Can machines admire or \"feel\" from art such as humans do?"
   ]
  },
  {
   "cell_type": "markdown",
   "id": "e1d5312f-0057-4c15-9f8c-d673a4eb8b40",
   "metadata": {},
   "source": [
    "**A Speculative Analysis**"
   ]
  },
  {
   "cell_type": "markdown",
   "id": "0e09515c-2ef9-485d-8495-3950e0557888",
   "metadata": {},
   "source": [
    "**Prompt**\n",
    "> You are in the role of a professional art critic. Please provide succinct and clear opinions on these art pieces.\n",
    "![Art Piece #1](art1.jpg)\n",
    "![Art Piece #2](art2.jpg)\n",
    "![Art Piece #3](art3.png)"
   ]
  },
  {
   "cell_type": "markdown",
   "id": "0c19c3be-25a7-4fd1-8ed0-ea4f3b0cccc1",
   "metadata": {},
   "source": [
    "In terms of human-made art pieces, I chose to only use art pieces I found on Pinterest, in the hopes that being able to recognize a famous art piece (e.g. Mona Lisa) wouldn't impact GPT-5's \"opinion\". For the AI-generated art, that was from generated from GPT-5 with the **prompt:** generate me an artwork of a man surfboarding."
   ]
  },
  {
   "cell_type": "markdown",
   "id": "266e2e2c-aea9-4d63-a045-65b52680b5c7",
   "metadata": {},
   "source": [
    "**Response**\n",
    "> Here are my succinct critiques of the three works you shared: <br>\n",
    "1. **Surreal Goldfish Dreamscape**<br>\n",
    "A strikingly surreal image blending dream and nature: the reclining face merges with grassy hills, while fish swim inside a fragile bubble of breath. Its charm lies in playful scale inversions (tiny cows below, monumental face above) and the sense of subconscious fluidity. The work feels whimsical yet contemplative, though its symbolism risks being overly literal if read only as “daydreaming.” The delicate watercolor-like textures soften the surrealism into something poetic.<br>\n",
    "2. **Seascape with Boats (Van Gogh–style)**<br>\n",
    "This seascape captures both turbulence and lightness through restless brushwork and vivid color contrasts. The frothy foreground waves surge toward the viewer, while boats in the distance anchor the scene with calm human presence. The painting’s strength is in its kinetic rhythm — strokes that echo the sea’s perpetual motion. Yet, the composition leaves much negative space in the sky, making it slightly less balanced than Van Gogh’s strongest marine works. Still, the sea’s vitality is palpable. <br>\n",
    "3. **Surfer in the Wave**<br>\n",
    "An energetic, heroic depiction of a surfer at the crest of a curling wave. The figure is sculptural, almost classical, with muscles modeled in bold light and shadow — reminiscent of Romanticism’s admiration for man versus nature. The ocean’s brushstrokes amplify dynamism, though the scene leans toward idealization: more illustration than intimate encounter with the sea. Its appeal lies in its immediacy and athletic power rather than subtle mood. <br>\n",
    "👉 **Overall:**<br>\n",
    "The first piece is whimsical-surreal and poetic.<br>\n",
    "The second is impressionistic, kinetic, and elemental.<br>\n",
    "The third is dramatic, heroic, and illustrative.<br>"
   ]
  },
  {
   "cell_type": "markdown",
   "id": "f065846f-3ad3-48f9-bc1e-13409828c56d",
   "metadata": {},
   "source": [
    "Interestingly, AI opinion's on the AI-generated work was the most positive. Only in opinion #1 does GPT-5 explicitly the feelings that the artwork evokes in the viewer. Generally GPT-5's opinions rely more on analysis of technicality and physicality rather than \"vibes\" and feelings. However, vague these vibes and feelings may be, I believe it to be something essential in our own human analysis of artwork, but perhaps at least this language will be incorporated into GPT-5 and other LLM's capabilities in the near future.\n",
    "\n",
    "Side note: I asked GPT-5 which single artwork appeared generated out of the 3. GPT-5 answered that art piece #1 (human-made) does. This interests me in further experimentation on this subject.\n",
    "\n",
    "Side note: I generally dislike the concept of AI-generated art, since (at least to me) it will always lack a certain human warmth. However, I've noticed a huge jump in the technical quality of works compared to before where artworks generated by general prompts like mine would result in something round and shiny, which is something I find intriguing and also a bit more scared for the art industry."
   ]
  },
  {
   "cell_type": "code",
   "execution_count": null,
   "id": "d93dbffb-71ec-4e0f-b9ad-0f4d969c6be1",
   "metadata": {},
   "outputs": [],
   "source": []
  }
 ],
 "metadata": {
  "kernelspec": {
   "display_name": "Python 3-12 (COMM4190)",
   "language": "python",
   "name": "python3-12_comm4190"
  },
  "language_info": {
   "codemirror_mode": {
    "name": "ipython",
    "version": 3
   },
   "file_extension": ".py",
   "mimetype": "text/x-python",
   "name": "python",
   "nbconvert_exporter": "python",
   "pygments_lexer": "ipython3",
   "version": "3.12.11"
  }
 },
 "nbformat": 4,
 "nbformat_minor": 5
}
