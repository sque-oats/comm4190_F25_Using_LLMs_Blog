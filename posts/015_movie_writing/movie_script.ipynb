{
 "cells": [
  {
   "cell_type": "raw",
   "id": "03a5db6d-5866-4d9b-a84b-68ffc58c528e",
   "metadata": {},
   "source": [
    "---\n",
    "title: \"Having Gemini 3.5 Pro write a movie script\"\n",
    "description: \"The film industry is trying to replace human writers with AI. So what is AI currently capable of producing?\" \n",
    "author: \"Suya\"\n",
    "date: \"10/24/2025\"\n",
    "categories:\n",
    "  - LLMs\n",
    "  - Culture\n",
    "  - The AI Con \n",
    "---"
   ]
  },
  {
   "cell_type": "markdown",
   "id": "1e6a4fa6-ff7c-44e6-aa56-302687a9fdf4",
   "metadata": {},
   "source": [
    "![Cat from movie \"Flow\" holding an Oscar](oscar_cat.jpg)"
   ]
  },
  {
   "cell_type": "markdown",
   "id": "3c3e67a7-a55f-4141-b825-c9f945c6932d",
   "metadata": {},
   "source": [
    "## Context"
   ]
  },
  {
   "cell_type": "markdown",
   "id": "46e6edfb-67ce-4f6a-a936-43bd3458f9ea",
   "metadata": {},
   "source": [
    "In the AI Con, the 2023 SAG-AFTRA strike is discussed as an outcome of how film studios are trying to replace writers with AI-generated scripts. <br> However, they're not just trying to replace these writers, they're also demoting them. <br>\n",
    "<br>\n",
    "Since AI will often spit out error-filled or uncompelling scripts, they plan on keeping writers on in a revisionary role. <br> <br>\n",
    "\n",
    "In this revisionary role, writers may even have to rework an entire script, which would be the same amount of work (or even more if they're restricted to the constraints of the original AI-generated script) but at a lower cost for the studio since they don't have to pay a writer's salary. "
   ]
  },
  {
   "cell_type": "markdown",
   "id": "e4ea65dc-381c-4c77-9825-776d853b3a62",
   "metadata": {},
   "source": [
    "## Gemini's Script"
   ]
  },
  {
   "cell_type": "markdown",
   "id": "a1ad7bd7-1368-49eb-b430-f6e02743459c",
   "metadata": {},
   "source": [
    "**My Prompt:** <br>\n",
    "> Write me a short script for an introductory scene to a movie."
   ]
  },
  {
   "cell_type": "markdown",
   "id": "b8f0112c-f538-4330-94d0-d5ddb13cba65",
   "metadata": {},
   "source": [
    "<font face=\"Courier New\"><p>[SCENE START] <br>\n",
    "<br>\n",
    "EXT. CITY ROOFTOP - NIGHT<br>\n",
    "<br>\n",
    "Rain lashes the city. Neon signs reflect in greasy puddles. <br>\n",
    "<br>\n",
    "A FIGURE in a dark, hooded rain jacket (ELIAS, 30s) kneels by a high-tech electronics case. His face is tense, illuminated by the glow of a small screen. <br>\n",
    "<br>\n",
    "He works quickly, splicing wires from the case into a large junction box on the roof's edge.<br>\n",
    "<br>\n",
    "A heavy, metal-plated DRONE hums to life beside him. Its single red optical lens swivels, scanning the street below. <br>\n",
    "<br>\n",
    "Through a small earpiece, a calm, digitized voice. <br>\n",
    "<br>\n",
    "<center>VOICE (O.S.)</center>I show three guards. Main lobby. Two on the eighth-floor patrol. You have ninety seconds until their rotation syncs with the vault timer.<br>\n",
    "<br>\n",
    "Elias doesn't look up. His fingers fly across a portable keyboard.<br>\n",
    "<br>\n",
    "<center>ELIAS</center>I only need sixty.<br>\n",
    "<br>\n",
    "<center>VOICE (O.S.)</center> That's new. Confidence. Or is that arrogance?<br>\n",
    "<br>\n",
    "<center>ELIAS</center>It's efficiency.<br>\n",
    "<br>\n",
    "Elias hits a final key. The junction box sparks. Across the street, the lights in the top ten floors of the opposing skyscraper—\"KATAHASHI TOWER\"—flicker and die.<br>\n",
    "<br>\n",
    "Alarms, faint at this distance, begin to wail.<br>\n",
    "<br>\n",
    "<center>ELIAS</center>Drone is active. Sending it to the vault window. I’m dark.<br>\n",
    "<br>\n",
    "Elias snaps the case shut, stands, and peers over the ledge. The drone rises silently, unaffected by the wind, and darts across the chasm between the buildings.<br>\n",
    "<br>\n",
    "<center>VOICE (O.S.)</center>Elias... new signal. An unscheduled one. Rooftop. Your building.<br>\n",
    "<br>\n",
    "Elias freezes. He slowly turns.<br>\n",
    "<br>\n",
    "At the rooftop access door, 30 yards away, stands another FIGURE. This one is motionless, silhouetted against the stairwell light, holding a long, thin briefcase.<br>\n",
    "<br>\n",
    "The new figure doesn't move. Just watches.<br>\n",
    "<br>\n",
    "Elias's hand drifts to a sidearm holstered under his jacket.<br>\n",
    "<br>\n",
    "<center>ELIAS</center>(Into comms) > Who is it?<br>\n",
    "<br>\n",
    "<center>VOICE (O.S.)</center>...I don't know. They're not on any system.<br>\n",
    "<br>\n",
    "The silhouetted figure takes one slow step forward onto the roof.<br>\n",
    "<br>\n",
    "FADE TO BLACK.<br>\n",
    "<br>\n",
    "TITLE CARD: ECHO RUNNER<br>\n",
    "<br>\n",
    "[SCENE END]<br> </p></font>"
   ]
  },
  {
   "cell_type": "markdown",
   "id": "b1b82b71-366a-4cac-b457-fa5fcd145488",
   "metadata": {},
   "source": [
    "## Takeaways"
   ]
  },
  {
   "cell_type": "markdown",
   "id": "d9694854-f4f9-4f58-8cd2-99bdccb53fdf",
   "metadata": {},
   "source": [
    "LLMs function just by drawing on existing information, or in this case existing scripts and film projects. This is clearly illustrated by the similarity between the names \"Echo Runner\" and the actual move \"Blade Runner,\" replete by the cyberpunk vibe and Japanese influence that's so common in these dysotpian movies (\"Katahashi Tower\" but the main character is named Elias?)."
   ]
  },
  {
   "cell_type": "markdown",
   "id": "ba9a0d3b-b51d-49ce-b411-90d173c98d81",
   "metadata": {},
   "source": [
    "I don't know enough about film scripts to know if there were any technical errors, but I will say that it's not the most informative introductory scene. (I do admit that I did ask for a short introductory scene.)"
   ]
  },
  {
   "cell_type": "markdown",
   "id": "0c194378-cf84-4a47-b010-b607579daccf",
   "metadata": {},
   "source": [
    "Generally though, it's not a very compelling story just at first glance. Because of its (inevitable) similarities to existing projects in the genre Gemini chose to write this script in, it's not fresh and demoted screenwriters working with this would ultimately have to revamp the entire script to make it more interesting for audiences. "
   ]
  },
  {
   "cell_type": "markdown",
   "id": "bff44aa2-c546-40a0-a616-8deb59edc2eb",
   "metadata": {},
   "source": [
    "Using these scripts reduces creative output, makes work more stressful and less exciting, and ultimately will destroy the careers of many people who love screenwriting. To me, AI-generated scripts just to save time and money will ultimately hurt the industry much more. I don't even know if the people on top will be able to line their pockets if no one wants to work for them or watch their films.  <br> <br> And side note: AI could never generate the concept of \"Flow\", which was one of my favorite movies of 2024, because of its pure originality!"
   ]
  }
 ],
 "metadata": {
  "kernelspec": {
   "display_name": "Python 3-12 (COMM4190)",
   "language": "python",
   "name": "python3-12_comm4190"
  },
  "language_info": {
   "codemirror_mode": {
    "name": "ipython",
    "version": 3
   },
   "file_extension": ".py",
   "mimetype": "text/x-python",
   "name": "python",
   "nbconvert_exporter": "python",
   "pygments_lexer": "ipython3",
   "version": "3.12.12"
  }
 },
 "nbformat": 4,
 "nbformat_minor": 5
}
