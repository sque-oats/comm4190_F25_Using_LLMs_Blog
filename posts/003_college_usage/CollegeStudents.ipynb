{
 "cells": [
  {
   "cell_type": "raw",
   "id": "931b0f64-2174-4a01-8969-990e79df8ac0",
   "metadata": {},
   "source": [
    "---\n",
    "title: \"ChatGPT-5 and students\"\n",
    "description: \"Is ChatGPT aware of how much college students use it? And if so, does it know what students mostly use it for?\" \n",
    "author: \"Suya\"\n",
    "date: \"9/8/2025\"\n",
    "categories:\n",
    "  - LLMs\n",
    "  - Learning\n",
    "  - Food\n",
    "---"
   ]
  },
  {
   "cell_type": "markdown",
   "id": "76ac0248-ef13-4ca8-b0a3-961165426d89",
   "metadata": {},
   "source": [
    "![Cat Student](CatStudent.jpg)"
   ]
  },
  {
   "cell_type": "markdown",
   "id": "14e8045b-f913-41b2-a4d2-736e94b9ba50",
   "metadata": {},
   "source": [
    "## Background"
   ]
  },
  {
   "cell_type": "markdown",
   "id": "21e6adaf-5257-4c2c-9630-3d59afbb3c1f",
   "metadata": {},
   "source": [
    "We all know that GPT usage among students has increased exponentially in the past few years, in ways considered both cheating (e.g. writing essays) and non-cheating (e.g. figuring out what's going wrong with installing a Java package in your code). This trend of usage also spills over to other aspects of education, such as professors developing AI-generated slides at Northeastern University, but this blog will focus on students alone, specifically college students."
   ]
  },
  {
   "cell_type": "markdown",
   "id": "77d169cb-06b9-4aab-81c8-3af82a315cd5",
   "metadata": {},
   "source": [
    "## ChatGPT takes a positive approach"
   ]
  },
  {
   "cell_type": "markdown",
   "id": "ede38926-e2a3-4396-bdfc-5dcb8fdaf82e",
   "metadata": {},
   "source": [
    "**Prompt:** Are you aware of the increasing trend of college students using you? If so, what do they mostly use you for?\n",
    "\n",
    "**Response:** Yes—I’m aware that college students are increasingly using me (and other AI tools). From what’s been studied and observed so far, the most common uses tend to fall into a few categories:"
   ]
  },
  {
   "cell_type": "markdown",
   "id": "73a4cb88-11f2-4f30-b6a2-6ae3d5881ae7",
   "metadata": {},
   "source": [
    "![GPT first response](FirstResponse.png)"
   ]
  },
  {
   "cell_type": "markdown",
   "id": "e4c4dcd9-00ff-4b11-a963-8af3a498b972",
   "metadata": {},
   "source": [
    "**Response (cont.):** Overall, most students seem to use me as a study aid, writing assistant, and productivity booster—basically as an on-demand tutor and brainstorming partner, though always most effective when combined with their own critical thinking.\n",
    "Would you like me to show you some actual survey data on how often students are using AI tools for these purposes?"
   ]
  },
  {
   "cell_type": "markdown",
   "id": "d6a9ee4f-9146-4082-ae86-4b2c6eee967e",
   "metadata": {},
   "source": [
    "In this initial response, ChatGPT brings up a lot of really good points, even things that I hadn't yet tried myself such as generating practice questions. However, it shies away from the elephant in the room: how students use it to complete entire assignments without any thinking on their part. GPT does emphasize that using it should be combined with the student's own critical thinking."
   ]
  },
  {
   "cell_type": "markdown",
   "id": "a4bfa77b-0569-49d7-adfb-b7e82857ab82",
   "metadata": {},
   "source": [
    "Side note: GPT includes simple recipes, and I wonder if this is influenced by my activity (showcased in my previous post). "
   ]
  },
  {
   "cell_type": "markdown",
   "id": "493e75ac-54ef-4ad2-8161-808dbf71e950",
   "metadata": {},
   "source": [
    "**Prompt:** what about in terms of cheating?\n",
    "\n",
    "**Response:** \n",
    "Key Issues & Complexity\n",
    "Definition ambiguity: What counts as “cheating” changes a lot. Is it cheating if a student uses AI to get ideas but writes their own essay? Some institutions allow limited AI use (draft ideas, summaries, grammar checks) if disclosed or cited. Others ban it more strictly.\n",
    "Detection difficulty: AI-generated content can be polished, edited, or paraphrased and thus hard to distinguish; many AI detection tools have false positives or false negatives. Also, students may intentionally obfuscate AI use.\n",
    "Policy variation: Different schools, departments, and professors have different rules. Some haven’t clearly communicated expectations; others are still figuring out how to treat AI in honor codes, syllabi, etc.\n",
    "Ethics & culture: Students’ perceptions matter: whether they believe using AI is wrong depends on how norms are set, whether peers are doing it, whether professors care or enforce rules.\n",
    "Risk vs. benefit trade-off: Some students feel safe if AI helps them produce better work or manage workload; others worry about penalties or having work flagged."
   ]
  },
  {
   "cell_type": "markdown",
   "id": "ef9feb2c-16b2-497e-9e03-e123981d0f5e",
   "metadata": {},
   "source": [
    "GPT takes a very nuanced approach to my prompt, which I found very interesting. Ultimately, it seems to be going against the grain of higher-education educators by emphasizing how ambiguous the concept of cheating and AI usage can be, across different institutions, different courses, and different students. GPT also tends to speak more from the student's perspective (\"Some haven’t clearly communicated expectations; others are still figuring out how to treat AI in honor codes, syllabi, etc.\")"
   ]
  },
  {
   "cell_type": "markdown",
   "id": "f28971ad-9e42-4ff9-a0bb-aa80aecbee69",
   "metadata": {},
   "source": [
    "ChatGPT-5 has probably read through the negative thinkpieces on AI, but something in its algorithm drives it to give a more AI-usage positive perspective than otherwise. I wonder if this indirectly caused by its own self sufficiency, or if it is more directly coded to have this response in order to protect the sanctity of its existence."
   ]
  }
 ],
 "metadata": {
  "kernelspec": {
   "display_name": "Python 3-12 (COMM4190)",
   "language": "python",
   "name": "python3-12_comm4190"
  },
  "language_info": {
   "codemirror_mode": {
    "name": "ipython",
    "version": 3
   },
   "file_extension": ".py",
   "mimetype": "text/x-python",
   "name": "python",
   "nbconvert_exporter": "python",
   "pygments_lexer": "ipython3",
   "version": "3.12.11"
  }
 },
 "nbformat": 4,
 "nbformat_minor": 5
}
