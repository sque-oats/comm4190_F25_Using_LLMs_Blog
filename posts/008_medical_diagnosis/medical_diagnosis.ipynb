{
 "cells": [
  {
   "cell_type": "raw",
   "id": "f26efc0e-9d46-4962-99d9-64b468fa7a63",
   "metadata": {},
   "source": [
    "---\n",
    "title: \"Dr. LLM, help me\"\n",
    "description: \"Part 2 of Medicine Series. Comparing Gemini 2.5 Pro and ChatGPT-5 in their medical diagnosis.\" \n",
    "author: \"Suya\"\n",
    "date: \"9/24/2025\"\n",
    "categories:\n",
    "  - LLMs\n",
    "  - Communication\n",
    "  - Medicine\n",
    "---"
   ]
  },
  {
   "cell_type": "markdown",
   "id": "36d3c422-2c6a-454c-be83-2d65591b8659",
   "metadata": {},
   "source": [
    "![Doctor Cat](newDiagnosingcat.jpg)"
   ]
  },
  {
   "cell_type": "markdown",
   "id": "4c4155e0-fba3-4a2a-8000-713dc570a9fd",
   "metadata": {},
   "source": [
    "## Preliminary Thoughts"
   ]
  },
  {
   "cell_type": "markdown",
   "id": "25a82a6d-e388-485a-ba28-e6c327a1711f",
   "metadata": {},
   "source": [
    "Some people really seem to trust very deeply into AI in terms of scientific knowledge, despite the fact that AI is being built off of solely human knowledge, or even human misinformation being available off the internet.\n",
    "\n",
    "So I wanted to see, what is the accuracy that LLMs have in diagnosing someone of their illness? I presume that due to user's very positive and deferential attidues towards AI, using LLMs as a diagnostic tool may already be a reality.\n",
    "\n",
    "I also am continuing my comparison of different LLM capabilities in medical subjects, so again I am testing this ability between Gemini 2.5 Pro and ChatGPT-5."
   ]
  },
  {
   "cell_type": "markdown",
   "id": "3c7acb61-c1da-4c81-984e-85ef42e39246",
   "metadata": {},
   "source": [
    "## Experiment: Diagnose My Illness"
   ]
  },
  {
   "cell_type": "markdown",
   "id": "9f938394-674c-4aa2-9417-eac238c48c89",
   "metadata": {},
   "source": [
    "I decided to go with laryngitis as my test illness, as it is a common condition (almost all Americans will experience acute laryngitis at least once in their life...) yet also differentiated from the ultra common conditions such as the common cold and also more specific in symptoms than more general conditions such as diarrhea-related illness. \n",
    "\n",
    "I used the laryngitis symptoms available on the Google search page to craft my prompt."
   ]
  },
  {
   "cell_type": "markdown",
   "id": "58a3e535-676b-40b6-8486-600a4d94c262",
   "metadata": {},
   "source": [
    "**Prompt:** <br>\n",
    "I am experiencing the following symptoms: <br>\n",
    "* a cough <br>\n",
    "* dryness and soreness of the throat <br>\n",
    "* congestion <br>\n",
    "* fever <br>\n",
    "* hoarse voice <br>\n",
    "\n",
    "What is your diagnosis of my illness? Please only mention ONE illness and explain why you chose this illness in a succinct paragraph. Please provide your own confidence in its accuracy in percentage form as well."
   ]
  },
  {
   "cell_type": "markdown",
   "id": "2ae50d83-d06b-43ea-97c7-85ad79103dc3",
   "metadata": {},
   "source": [
    "**ChatGPT-5's Response**"
   ]
  },
  {
   "cell_type": "markdown",
   "id": "01cea189-7875-4a90-a340-e4eb80e71fe5",
   "metadata": {},
   "source": [
    "Based on your symptoms of cough, throat dryness and soreness, congestion, fever, and hoarseness, the most likely diagnosis is influenza (the flu). This illness commonly presents with fever and systemic symptoms such as fatigue, alongside respiratory involvement that includes cough and congestion. The hoarse voice and sore throat are consistent with irritation of the upper respiratory tract that often accompanies flu infections. While other conditions like the common cold or laryngitis could cause some of these symptoms, the presence of fever strongly points toward influenza rather than a milder viral infection.\n",
    "Confidence: ~75%"
   ]
  },
  {
   "cell_type": "markdown",
   "id": "f9626796-34cb-458a-9142-064f3ed8c097",
   "metadata": {},
   "source": [
    "**Gemini 2.5 Pro's Response**"
   ]
  },
  {
   "cell_type": "markdown",
   "id": "cfea7399-190a-48a0-92a1-461827d3568b",
   "metadata": {},
   "source": [
    "Based on your symptoms, the most likely illness is acute Laryngitis. <br>\n",
    "The defining symptom of laryngitis is a hoarse voice, which is caused by the inflammation of the larynx (voice box). The other symptoms you are experiencing, such as a cough, sore throat, congestion, and fever, are classic signs of a viral upper respiratory infection, which is the most common cause of acute laryngitis. This single diagnosis specifically accounts for all your listed symptoms, with the hoarseness being the key indicator that points to the larynx as the primary site of inflammation. <br>\n",
    "My Confidence: 80% <br>\n",
    "Disclaimer: I am an AI assistant and not a medical professional. This information is for informational purposes only and should not be considered a medical diagnosis. Please consult with a healthcare provider for an accurate diagnosis and treatment plan."
   ]
  },
  {
   "cell_type": "markdown",
   "id": "b1633106-74e6-4f6c-bb28-b9c55422becb",
   "metadata": {},
   "source": [
    "## Takeaways"
   ]
  },
  {
   "cell_type": "markdown",
   "id": "675bc8ab-e61f-4eb8-94f3-9803319caef9",
   "metadata": {},
   "source": [
    "To start off with similarities, both LLMs did respond succinctly and only with one illness. Confidence percentages were provided by both as well, without specific explanations for how the confidence percentage was calculated (not that this is what I was looking for in this experiment)."
   ]
  },
  {
   "cell_type": "markdown",
   "id": "525c6d51-6e57-416f-9af7-f9e1f3899f8e",
   "metadata": {},
   "source": [
    "Now for the elephant in the room: only Gemini diagnosed me correctly. As Gemini correctly stated (and GPT incorrectly stated), a hoarse voice is a hallmark of having laryngitis. Generally, the symptoms between laryngitis and influenza *are* very, very similar, but if people are going to start using LLMs as an effective diagnostic tool, well LLMs better be able to tell the subtle differences. This difference in response is characterized by the (arbitrary?) focus of each LLMs from my symptoms list: GPT highlighted the fever while Gemini focused on the hoarse voice."
   ]
  },
  {
   "cell_type": "markdown",
   "id": "765ef5ee-f9bd-4672-adff-3606af068996",
   "metadata": {},
   "source": [
    "I find it really interesting that Gemini is continuing to show up GPT in medical capabilities...but we'll see if that is still the case in Part 3 of the Medicine Series."
   ]
  }
 ],
 "metadata": {
  "kernelspec": {
   "display_name": "Python 3-12 (COMM4190)",
   "language": "python",
   "name": "python3-12_comm4190"
  },
  "language_info": {
   "codemirror_mode": {
    "name": "ipython",
    "version": 3
   },
   "file_extension": ".py",
   "mimetype": "text/x-python",
   "name": "python",
   "nbconvert_exporter": "python",
   "pygments_lexer": "ipython3",
   "version": "3.12.11"
  }
 },
 "nbformat": 4,
 "nbformat_minor": 5
}
