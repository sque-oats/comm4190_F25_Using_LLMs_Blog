{
 "cells": [
  {
   "cell_type": "raw",
   "id": "5d020231-8af7-4331-b8fb-0da1fe3d28c8",
   "metadata": {},
   "source": [
    "---\n",
    "title: \"Doom and Gloom = More Hype?\"\n",
    "description: \"The authors of The AI Con discuss how terror of AI is used to effectively generate more investment in AI. Does ChatGPT-5 agree or disagree? \" \n",
    "author: \"Suya\"\n",
    "date: \"9/13/2025\"\n",
    "categories:\n",
    "  - LLMs\n",
    "  - AI Opinions\n",
    "---"
   ]
  },
  {
   "cell_type": "markdown",
   "id": "549613ff-2363-416d-9ac9-0910a0ed6b06",
   "metadata": {},
   "source": [
    "![Praying Cat](Pray.jpg)"
   ]
  },
  {
   "cell_type": "markdown",
   "id": "2f5a0ccd-f3cb-4f5d-ba29-7e5d0d8b82f6",
   "metadata": {},
   "source": [
    "## The AI Con's Opinion on \"AI Doom\""
   ]
  },
  {
   "cell_type": "markdown",
   "id": "01034660-694a-4681-aa83-90bd004098f9",
   "metadata": {},
   "source": [
    "\"The AI Con\" is the book I'm living with for the rest of this class, and it started off swinging. Through its powerful and argumentative language, an early opinon of this book that has really stood out to me is how AI startups use extreme negative connotations, not just positive, to its advantage. \n",
    "\n",
    "The book argues that tapping into the previosuly manufactured scare factors of AI, such as through stories like The Matrix, works to inflate the perceived worth of those in charge of developing AI.\n",
    "\n",
    "\"I will be the savior that prevents this from happening to humanity, believe in me!\""
   ]
  },
  {
   "cell_type": "markdown",
   "id": "a493235f-4a5d-4cd4-a8d7-b57bd04238ae",
   "metadata": {},
   "source": [
    "## GPT-5's Opinion"
   ]
  },
  {
   "cell_type": "markdown",
   "id": "40276d05-e034-4916-9747-9c0d3a56465b",
   "metadata": {},
   "source": [
    "There is such a wide spectrum of opinions on AI as a whole, and I bet there are a lot of differing opinions on this very specific topic. So I wondered, what does AI itself think about this? "
   ]
  },
  {
   "cell_type": "markdown",
   "id": "a0660c83-8917-440c-857b-b5eef41ef5e3",
   "metadata": {},
   "source": [
    "**Prompt**\n",
    "> What do you think about doom coverage on AI (emphaisizing The Matrix-esque futures), and how do you think this impacts the growth of the AI industry?"
   ]
  },
  {
   "cell_type": "markdown",
   "id": "a70b6f6c-0016-44fb-9995-9a0009683e48",
   "metadata": {},
   "source": [
    "**Response**\n",
    "> That’s a great question — it cuts across media studies, public perception, and industry strategy. Here are some angles to consider:\n",
    "\n",
    "ChatGPT-5 subsequently gave a very detailed answer. \n",
    "\n",
    "> 1. **Doom Coverage and Cultural Narratives**<br>\n",
    "When outlets emphasize The Matrix-style AI dystopias, they tap into a long tradition of techno-apocalyptic storytelling. These narratives resonate because they dramatize anxieties about control, autonomy, and human obsolescence. They simplify complex technical debates into familiar tropes of “man vs. machine.”\n",
    "Pros: Easy for the public to understand, sparks awareness of real ethical risks.\n",
    "Cons: Can distort nuance by framing AI primarily as existential threat rather than a multifaceted tool.\n",
    "> 2. **Public Perception and Trust**<br>\n",
    "Doom-heavy coverage often polarizes public opinion:\n",
    "Skeptics & critics may use these narratives to demand stronger regulation and slow down deployment.\n",
    "Optimists & adopters may dismiss them as hype, but still face public fear or mistrust when rolling out AI tools (e.g., in healthcare or education).\n",
    "The net effect is heightened uncertainty, which can either motivate caution or fuel backlash against AI adoption.\n",
    "> 3. **Industry Growth Dynamics**<br>\n",
    "The impact on the AI industry is nuanced:\n",
    "Short-term drag: Public mistrust can slow down user adoption (e.g., patients reluctant to accept AI diagnoses, students wary of “AI teachers”). It can also encourage heavy-handed regulation that makes scaling harder.\n",
    "Long-term acceleration: Paradoxically, doom coverage can drive investment. Investors and governments may see AI as powerful (and therefore high-stakes) technology — worth betting on, shaping, and controlling. Think of how nuclear fears led to both arms control treaties and massive investment in nuclear energy and defense.\n",
    "> 4. **Regulatory and Research Outcomes**<br>\n",
    "Doom narratives have already influenced high-level policy debates (e.g., US and EU AI regulation citing “existential risk”).\n",
    "This helps justify funding for AI safety research, explainability, and standards — creating whole new industry niches.\n",
    "> 5. **Competitive Framing** <br>\n",
    "Companies often lean into or against doom narratives depending on their goals:\n",
    "Big AI labs sometimes amplify risk discourse (to signal responsibility and justify centralized control of frontier models).\n",
    "Startups may position themselves as “democratizing” AI to counteract fears and emphasize accessibility. <br>\n",
    "✅ **Bottom line:** Doom coverage doesn’t stop AI industry growth — it reframes it. While it introduces friction (public fear, potential regulation), it also reinforces the perception that AI is transformative and worth heavy investment. Over time, this mix tends to stabilize into cautious but continued growth, with safety becoming a major parallel industry."
   ]
  },
  {
   "cell_type": "markdown",
   "id": "367a24d6-aa76-4546-86af-8103ace2dcb6",
   "metadata": {},
   "source": [
    "GPT-5 ultimately takes a very neutral approach, which I found interesting because I expected something more negative as something that on the surface just speaks against the future of AI. This has showed that that GPT-5 is capable of greater reasoning and nuance than I have previously believed, and ironically, makes it a bit more scary. It's interesting to note that the opinion of \"The AI Con\" represent a perfect half of Point #3 and #5 in GPT-5's response."
   ]
  }
 ],
 "metadata": {
  "kernelspec": {
   "display_name": "Python 3-12 (COMM4190)",
   "language": "python",
   "name": "python3-12_comm4190"
  },
  "language_info": {
   "codemirror_mode": {
    "name": "ipython",
    "version": 3
   },
   "file_extension": ".py",
   "mimetype": "text/x-python",
   "name": "python",
   "nbconvert_exporter": "python",
   "pygments_lexer": "ipython3",
   "version": "3.12.11"
  }
 },
 "nbformat": 4,
 "nbformat_minor": 5
}
